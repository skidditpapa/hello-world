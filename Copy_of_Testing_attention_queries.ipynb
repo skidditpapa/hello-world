{
  "cells": [
    {
      "cell_type": "markdown",
      "metadata": {
        "id": "view-in-github",
        "colab_type": "text"
      },
      "source": [
        "<a href=\"https://colab.research.google.com/github/skidditpapa/hello-world/blob/main/Copy_of_Testing_attention_queries.ipynb\" target=\"_parent\"><img src=\"https://colab.research.google.com/assets/colab-badge.svg\" alt=\"Open In Colab\"/></a>"
      ]
    },
    {
      "cell_type": "code",
      "execution_count": 1,
      "metadata": {
        "colab": {
          "base_uri": "https://localhost:8080/"
        },
        "id": "8419f3d4",
        "outputId": "d1adff67-d045-4977-8f0e-2211dbadd886"
      },
      "outputs": [
        {
          "output_type": "stream",
          "name": "stderr",
          "text": [
            "/usr/local/lib/python3.10/dist-packages/gym/core.py:317: DeprecationWarning: \u001b[33mWARN: Initializing wrapper in old step API which returns one bool instead of two. It is recommended to set `new_step_api=True` to use new step API. This will be the default behaviour in future.\u001b[0m\n",
            "  deprecation(\n",
            "/usr/local/lib/python3.10/dist-packages/gym/wrappers/step_api_compatibility.py:39: DeprecationWarning: \u001b[33mWARN: Initializing environment in old step API which returns one bool instead of two. It is recommended to set `new_step_api=True` to use new step API. This will be the default behaviour in future.\u001b[0m\n",
            "  deprecation(\n"
          ]
        }
      ],
      "source": [
        "import tensorflow as tf\n",
        "import math\n",
        "import matplotlib.pyplot as plt\n",
        "import torch\n",
        "import torch.nn as nn\n",
        "import numpy as np\n",
        "import gym\n",
        "import io\n",
        "import os\n",
        "from scipy import sparse\n",
        "from numpy import linalg as LA\n",
        "\n",
        "# %matplotlib notebook\n",
        "%matplotlib inline\n",
        "env = gym.make('MountainCar-v0')"
      ],
      "id": "8419f3d4"
    },
    {
      "cell_type": "code",
      "execution_count": 2,
      "metadata": {
        "id": "viq6KVYrR46q"
      },
      "outputs": [],
      "source": [
        "index_s = 0\n",
        "index_a = 3\n",
        "index_r = 6\n",
        "index_s_next = 7\n",
        "index_a_next = 10\n",
        "index_v = 13"
      ],
      "id": "viq6KVYrR46q"
    },
    {
      "cell_type": "code",
      "execution_count": 3,
      "metadata": {
        "id": "GubYQEy79BJh"
      },
      "outputs": [],
      "source": [
        "min_position = -1.2\n",
        "max_position = 0.6\n",
        "max_speed = 0.07\n",
        "goal_position = 0.5\n",
        "\n",
        "force = 0.001\n",
        "gravity = 0.0025\n",
        "\n",
        "low = np.array([min_position, -max_speed], dtype=np.float32)\n",
        "high = np.array([max_position, max_speed], dtype=np.float32)\n",
        "\n",
        "def step(state, action, keep=5):\n",
        "    position, velocity = state\n",
        "    velocity *= 0.06\n",
        "    \n",
        "    terminated = False\n",
        "    for i in range(keep):\n",
        "        velocity += (action - 1) * force + math.cos(3 * position) * (-gravity)\n",
        "        velocity = np.clip(velocity, -max_speed, max_speed)\n",
        "        position += velocity\n",
        "        position = np.clip(position, min_position, max_position)\n",
        "        if position == min_position and velocity < 0:\n",
        "            velocity = 0\n",
        "        terminated = terminated or bool(position >= goal_position)\n",
        "    \n",
        "    reward = 0\n",
        "    if(terminated):\n",
        "        reward = 1\n",
        "\n",
        "    state = (position, velocity/0.06)\n",
        "    return np.array(state, dtype=np.float32), reward, terminated, {}\n",
        "\n",
        "def value_getter(state, action, get_action, gamma = 1, tries=100):\n",
        "    tot = 0\n",
        "    #print(state)\n",
        "    for i in range(tries):\n",
        "        length = 0\n",
        "        d = False\n",
        "        s = state\n",
        "        init = True\n",
        "        while not d:\n",
        "            length += 1\n",
        "            #print(\"s is \" + str(s))\n",
        "            if (init):\n",
        "              s, r, d, info = step(s, action)\n",
        "              init = False\n",
        "            else:\n",
        "              #print(s)\n",
        "              s, r, d, info = step(s, get_action(s))\n",
        "        tot += gamma**length\n",
        "        #if (i < 10):\n",
        "          #print(length)\n",
        "    return tot/tries\n"
      ],
      "id": "GubYQEy79BJh"
    },
    {
      "cell_type": "code",
      "execution_count": null,
      "metadata": {
        "colab": {
          "base_uri": "https://localhost:8080/",
          "height": 169
        },
        "id": "0I2_79RgL7G6",
        "outputId": "7991527b-8a03-4410-ceb0-0f372ec1ec75"
      },
      "outputs": [
        {
          "output_type": "error",
          "ename": "NameError",
          "evalue": "ignored",
          "traceback": [
            "\u001b[0;31m---------------------------------------------------------------------------\u001b[0m",
            "\u001b[0;31mNameError\u001b[0m                                 Traceback (most recent call last)",
            "\u001b[0;32m<ipython-input-5-15ebbd73fc45>\u001b[0m in \u001b[0;36m<cell line: 1>\u001b[0;34m()\u001b[0m\n\u001b[0;32m----> 1\u001b[0;31m \u001b[0mreplay_memory_backup\u001b[0m\u001b[0;34m[\u001b[0m\u001b[0;36m650\u001b[0m\u001b[0;34m]\u001b[0m\u001b[0;34m\u001b[0m\u001b[0;34m\u001b[0m\u001b[0m\n\u001b[0m",
            "\u001b[0;31mNameError\u001b[0m: name 'replay_memory_backup' is not defined"
          ]
        }
      ],
      "source": [
        "replay_memory_backup[650]"
      ],
      "id": "0I2_79RgL7G6"
    },
    {
      "cell_type": "code",
      "execution_count": null,
      "metadata": {
        "id": "Hxbk3NXbL-C_"
      },
      "outputs": [],
      "source": [
        "replay_memory[650]"
      ],
      "id": "Hxbk3NXbL-C_"
    },
    {
      "cell_type": "code",
      "execution_count": 4,
      "metadata": {
        "id": "8473a218"
      },
      "outputs": [],
      "source": [
        "def reset():\n",
        "    return env.reset()\n",
        "def step(action):\n",
        "    s, r, done, info = env.step(action)\n",
        "    x = 0\n",
        "    if(s[0] > 0.5):\n",
        "        x = 1\n",
        "    return [s[0], s[1]/0.06], 0.0025*(np.sin(4*s[0])*0.45+0.55) + s[1]**2/2+x, done, info\n",
        "def step2(action):\n",
        "    s, r, done, info = env.step(action)\n",
        "    x = 0\n",
        "    if(s[0] > 0.5):\n",
        "        x = 1\n",
        "    return [s[0], s[1]/0.06], x, done, info\n",
        "def step2(action):\n",
        "    s, r, done, info = env.step(action)\n",
        "    x = 0\n",
        "    if(s[0] > 0.5):\n",
        "        x = 1\n",
        "    return [s[0], s[1]/0.06], x, s[0] > 0.5, info\n",
        "def get_loss_reinforce(tot_len, states, actions, advantages, prob):\n",
        "    prob_ratios = policy(states.float())[range(tot_len), actions]/prob\n",
        "    return -(torch.log(prob_ratios)*advantages).mean()"
      ],
      "id": "8473a218"
    },
    {
      "cell_type": "code",
      "execution_count": 5,
      "metadata": {
        "id": "48281fa9"
      },
      "outputs": [],
      "source": [
        "def transform(state):\n",
        "    pos = state[0]\n",
        "    v_scaled = state[1]\n",
        "    new_state = np.array([pos, v_scaled, 1])\n",
        "    return np.ndarray.tolist(new_state/math.sqrt(new_state.dot(new_state)))"
      ],
      "id": "48281fa9"
    },
    {
      "cell_type": "code",
      "execution_count": 6,
      "metadata": {
        "id": "ba2c4c2c"
      },
      "outputs": [],
      "source": [
        "def one_hot(action):\n",
        "    res = []\n",
        "    if action == 0:\n",
        "        res = [0,1,0]\n",
        "    if action == -1:\n",
        "        res = [1,0,0]\n",
        "    if action == 1:\n",
        "        res = [0,0,1]\n",
        "    return res"
      ],
      "id": "ba2c4c2c"
    },
    {
      "cell_type": "code",
      "execution_count": 7,
      "metadata": {
        "id": "a9479764"
      },
      "outputs": [],
      "source": [
        "def insert(replay_memory, index, state, action, reward, new_state, value):\n",
        "    if (index > 0):\n",
        "      replay_memory[index - 1][index_a_next:index_v] = one_hot(action)\n",
        "    replay_memory[index] = state+one_hot(action)+[reward]+new_state+[0, 0, 0]+[value]\n",
        "    index += 1\n",
        "    if index == replay_memory.shape[0]:\n",
        "        replay_memory = np.append(replay_memory, np.zeros(shape=replay_memory.shape), axis = 0)\n",
        "    return replay_memory, index"
      ],
      "id": "a9479764"
    },
    {
      "cell_type": "code",
      "execution_count": 8,
      "metadata": {
        "id": "a500fd25"
      },
      "outputs": [],
      "source": [
        "def reinforce_value_baseline(policy, critic, discount_factor, steps, trajectories, epoches, lrp, lrc):\n",
        "    rewards = []\n",
        "    criterion = torch.nn.MSELoss()\n",
        "    optimizer_policy = torch.optim.Adam(policy.parameters(), lr=lrp)\n",
        "    optimizer_critic = torch.optim.Adam(critic.parameters(), lr=lrc)\n",
        "    fig = plt.figure()\n",
        "    ax = fig.add_subplot(111)\n",
        "    fig.show()\n",
        "    fig.canvas.draw()\n",
        "    for k in range(steps):\n",
        "        states = []\n",
        "        actions = []\n",
        "        advantages = []\n",
        "        values = []\n",
        "        prob = []\n",
        "        total_len = 0\n",
        "\n",
        "        best = 0\n",
        "        ent = 0\n",
        "        for i in range(trajectories):\n",
        "            done = False\n",
        "            single_len = 0\n",
        "            s = reset()\n",
        "            while not done:\n",
        "                states.append(s)\n",
        "                a = np.random.choice(3, 1, p=policy(torch.tensor(s).float()).detach().numpy())[0]\n",
        "                prob.append(policy(torch.tensor(s).float())[a])\n",
        "                actions.append(a)\n",
        "                \n",
        "                values.append(critic(torch.tensor(s).float())[0])\n",
        "                \n",
        "                s, r, done, info = step(a)\n",
        "                advantages.append(r)# - policy(torch.tensor(s).float())[a])\n",
        "                single_len += 1\n",
        "                best += r\n",
        "            total_len += single_len\n",
        "            for j in range(single_len-1):\n",
        "                advantages[total_len-j-2] += discount_factor*advantages[total_len-j-1]\n",
        "        states = np.array(states)\n",
        "        actions = np.array(actions)\n",
        "        advantages = np.array(advantages)\n",
        "        rewards.append(best/total_len)\n",
        "        ax.clear()\n",
        "        ax.plot(rewards)\n",
        "        fig.canvas.draw()\n",
        "        for i in range(epoches):\n",
        "            optimizer_policy.zero_grad()\n",
        "            loss = get_loss_reinforce(total_len, torch.tensor(states), torch.tensor(actions).long(), torch.tensor(advantages)-torch.tensor(values), torch.tensor(prob))\n",
        "            loss.backward()\n",
        "            optimizer_policy.step()\n",
        "        optimizer_critic.zero_grad()\n",
        "        y = critic(torch.tensor(states).float())\n",
        "        loss = criterion(y, torch.tensor(advantages).reshape(-1,1).float())\n",
        "        loss.backward()\n",
        "        optimizer_critic.step()\n",
        "    return rewards"
      ],
      "id": "a500fd25"
    },
    {
      "cell_type": "code",
      "execution_count": 9,
      "metadata": {
        "id": "d16a5113"
      },
      "outputs": [],
      "source": [
        "def get_values(policy, discount_factor, steps, trajectories, epoches):\n",
        "    states = []\n",
        "    actions = []\n",
        "    rewards = []\n",
        "    total_len = 0\n",
        "\n",
        "    for k in range(steps):\n",
        "        best = 0\n",
        "        for i in range(trajectories):\n",
        "            done = False\n",
        "            single_len = 0\n",
        "            s = reset()\n",
        "            while not done:\n",
        "                states.append(s)\n",
        "                a = np.random.choice(3, 1, p=policy(torch.tensor(s).float()).detach().numpy())[0]\n",
        "                actions.append(a)\n",
        "                s, r, done, info = step(a)\n",
        "                rewards.append(r)\n",
        "                single_len += 1\n",
        "                best += r\n",
        "            total_len += single_len\n",
        "            for j in range(single_len-1):\n",
        "                rewards[total_len-j-2] += discount_factor*rewards[total_len-j-1]\n",
        "    return states, actions, rewards, total_len"
      ],
      "id": "d16a5113"
    },
    {
      "cell_type": "code",
      "execution_count": null,
      "metadata": {
        "id": "afd85c92"
      },
      "outputs": [],
      "source": [
        "p = nn.Sequential(\n",
        "        nn.Linear(2, 7, bias=False),\n",
        "        nn.ReLU(inplace=True),\n",
        "        nn.Linear(7, 3, bias=False),\n",
        "        nn.Softmax(dim=-1),)"
      ],
      "id": "afd85c92"
    },
    {
      "cell_type": "code",
      "execution_count": null,
      "metadata": {
        "id": "81568879"
      },
      "outputs": [],
      "source": [
        "discount_factor = 0.97\n",
        "steps = 100\n",
        "trajectories = 100\n",
        "epoches = 5\n",
        "lr = 0.01"
      ],
      "id": "81568879"
    },
    {
      "cell_type": "code",
      "execution_count": null,
      "metadata": {
        "colab": {
          "base_uri": "https://localhost:8080/",
          "height": 389
        },
        "id": "4201b8f8",
        "outputId": "a0ec3ee5-b79a-4a88-9949-d0215313821e"
      },
      "outputs": [
        {
          "output_type": "error",
          "ename": "KeyboardInterrupt",
          "evalue": "ignored",
          "traceback": [
            "\u001b[0;31m---------------------------------------------------------------------------\u001b[0m",
            "\u001b[0;31mKeyboardInterrupt\u001b[0m                         Traceback (most recent call last)",
            "\u001b[0;32m<ipython-input-13-bcd2b82c9663>\u001b[0m in \u001b[0;36m<cell line: 1>\u001b[0;34m()\u001b[0m\n\u001b[0;32m----> 1\u001b[0;31m \u001b[0mstates\u001b[0m\u001b[0;34m,\u001b[0m \u001b[0mactions\u001b[0m\u001b[0;34m,\u001b[0m \u001b[0madvantages\u001b[0m\u001b[0;34m,\u001b[0m \u001b[0mtotal_len\u001b[0m \u001b[0;34m=\u001b[0m \u001b[0mget_values\u001b[0m\u001b[0;34m(\u001b[0m\u001b[0mp\u001b[0m\u001b[0;34m,\u001b[0m \u001b[0mdiscount_factor\u001b[0m\u001b[0;34m,\u001b[0m \u001b[0msteps\u001b[0m\u001b[0;34m,\u001b[0m \u001b[0mtrajectories\u001b[0m\u001b[0;34m,\u001b[0m \u001b[0mepoches\u001b[0m\u001b[0;34m)\u001b[0m\u001b[0;34m\u001b[0m\u001b[0;34m\u001b[0m\u001b[0m\n\u001b[0m\u001b[1;32m      2\u001b[0m \u001b[0;34m\u001b[0m\u001b[0m\n\u001b[1;32m      3\u001b[0m \u001b[0madvantages\u001b[0m \u001b[0;34m=\u001b[0m \u001b[0mnp\u001b[0m\u001b[0;34m.\u001b[0m\u001b[0marray\u001b[0m\u001b[0;34m(\u001b[0m\u001b[0madvantages\u001b[0m\u001b[0;34m)\u001b[0m\u001b[0;34m.\u001b[0m\u001b[0mreshape\u001b[0m\u001b[0;34m(\u001b[0m\u001b[0;34m-\u001b[0m\u001b[0;36m1\u001b[0m\u001b[0;34m,\u001b[0m\u001b[0;36m1\u001b[0m\u001b[0;34m)\u001b[0m\u001b[0;34m\u001b[0m\u001b[0;34m\u001b[0m\u001b[0m\n\u001b[1;32m      4\u001b[0m \u001b[0mstates\u001b[0m \u001b[0;34m=\u001b[0m \u001b[0mnp\u001b[0m\u001b[0;34m.\u001b[0m\u001b[0marray\u001b[0m\u001b[0;34m(\u001b[0m\u001b[0mstates\u001b[0m\u001b[0;34m)\u001b[0m\u001b[0;34m\u001b[0m\u001b[0;34m\u001b[0m\u001b[0m\n\u001b[1;32m      5\u001b[0m \u001b[0mactions\u001b[0m \u001b[0;34m=\u001b[0m \u001b[0;34m(\u001b[0m\u001b[0mnp\u001b[0m\u001b[0;34m.\u001b[0m\u001b[0marray\u001b[0m\u001b[0;34m(\u001b[0m\u001b[0mactions\u001b[0m\u001b[0;34m)\u001b[0m\u001b[0;34m-\u001b[0m\u001b[0;36m1\u001b[0m\u001b[0;34m)\u001b[0m\u001b[0;34m.\u001b[0m\u001b[0mreshape\u001b[0m\u001b[0;34m(\u001b[0m\u001b[0;34m-\u001b[0m\u001b[0;36m1\u001b[0m\u001b[0;34m,\u001b[0m\u001b[0;36m1\u001b[0m\u001b[0;34m)\u001b[0m\u001b[0;34m\u001b[0m\u001b[0;34m\u001b[0m\u001b[0m\n",
            "\u001b[0;32m<ipython-input-10-68e08d8c4caa>\u001b[0m in \u001b[0;36mget_values\u001b[0;34m(policy, discount_factor, steps, trajectories, epoches)\u001b[0m\n\u001b[1;32m     13\u001b[0m             \u001b[0;32mwhile\u001b[0m \u001b[0;32mnot\u001b[0m \u001b[0mdone\u001b[0m\u001b[0;34m:\u001b[0m\u001b[0;34m\u001b[0m\u001b[0;34m\u001b[0m\u001b[0m\n\u001b[1;32m     14\u001b[0m                 \u001b[0mstates\u001b[0m\u001b[0;34m.\u001b[0m\u001b[0mappend\u001b[0m\u001b[0;34m(\u001b[0m\u001b[0ms\u001b[0m\u001b[0;34m)\u001b[0m\u001b[0;34m\u001b[0m\u001b[0;34m\u001b[0m\u001b[0m\n\u001b[0;32m---> 15\u001b[0;31m                 \u001b[0ma\u001b[0m \u001b[0;34m=\u001b[0m \u001b[0mnp\u001b[0m\u001b[0;34m.\u001b[0m\u001b[0mrandom\u001b[0m\u001b[0;34m.\u001b[0m\u001b[0mchoice\u001b[0m\u001b[0;34m(\u001b[0m\u001b[0;36m3\u001b[0m\u001b[0;34m,\u001b[0m \u001b[0;36m1\u001b[0m\u001b[0;34m,\u001b[0m \u001b[0mp\u001b[0m\u001b[0;34m=\u001b[0m\u001b[0mpolicy\u001b[0m\u001b[0;34m(\u001b[0m\u001b[0mtorch\u001b[0m\u001b[0;34m.\u001b[0m\u001b[0mtensor\u001b[0m\u001b[0;34m(\u001b[0m\u001b[0ms\u001b[0m\u001b[0;34m)\u001b[0m\u001b[0;34m.\u001b[0m\u001b[0mfloat\u001b[0m\u001b[0;34m(\u001b[0m\u001b[0;34m)\u001b[0m\u001b[0;34m)\u001b[0m\u001b[0;34m.\u001b[0m\u001b[0mdetach\u001b[0m\u001b[0;34m(\u001b[0m\u001b[0;34m)\u001b[0m\u001b[0;34m.\u001b[0m\u001b[0mnumpy\u001b[0m\u001b[0;34m(\u001b[0m\u001b[0;34m)\u001b[0m\u001b[0;34m)\u001b[0m\u001b[0;34m[\u001b[0m\u001b[0;36m0\u001b[0m\u001b[0;34m]\u001b[0m\u001b[0;34m\u001b[0m\u001b[0;34m\u001b[0m\u001b[0m\n\u001b[0m\u001b[1;32m     16\u001b[0m                 \u001b[0mactions\u001b[0m\u001b[0;34m.\u001b[0m\u001b[0mappend\u001b[0m\u001b[0;34m(\u001b[0m\u001b[0ma\u001b[0m\u001b[0;34m)\u001b[0m\u001b[0;34m\u001b[0m\u001b[0;34m\u001b[0m\u001b[0m\n\u001b[1;32m     17\u001b[0m                 \u001b[0ms\u001b[0m\u001b[0;34m,\u001b[0m \u001b[0mr\u001b[0m\u001b[0;34m,\u001b[0m \u001b[0mdone\u001b[0m\u001b[0;34m,\u001b[0m \u001b[0minfo\u001b[0m \u001b[0;34m=\u001b[0m \u001b[0mstep\u001b[0m\u001b[0;34m(\u001b[0m\u001b[0ma\u001b[0m\u001b[0;34m)\u001b[0m\u001b[0;34m\u001b[0m\u001b[0;34m\u001b[0m\u001b[0m\n",
            "\u001b[0;32m/usr/local/lib/python3.9/dist-packages/torch/nn/modules/module.py\u001b[0m in \u001b[0;36m_call_impl\u001b[0;34m(self, *args, **kwargs)\u001b[0m\n\u001b[1;32m   1499\u001b[0m                 \u001b[0;32mor\u001b[0m \u001b[0m_global_backward_pre_hooks\u001b[0m \u001b[0;32mor\u001b[0m \u001b[0m_global_backward_hooks\u001b[0m\u001b[0;34m\u001b[0m\u001b[0;34m\u001b[0m\u001b[0m\n\u001b[1;32m   1500\u001b[0m                 or _global_forward_hooks or _global_forward_pre_hooks):\n\u001b[0;32m-> 1501\u001b[0;31m             \u001b[0;32mreturn\u001b[0m \u001b[0mforward_call\u001b[0m\u001b[0;34m(\u001b[0m\u001b[0;34m*\u001b[0m\u001b[0margs\u001b[0m\u001b[0;34m,\u001b[0m \u001b[0;34m**\u001b[0m\u001b[0mkwargs\u001b[0m\u001b[0;34m)\u001b[0m\u001b[0;34m\u001b[0m\u001b[0;34m\u001b[0m\u001b[0m\n\u001b[0m\u001b[1;32m   1502\u001b[0m         \u001b[0;31m# Do not call functions when jit is used\u001b[0m\u001b[0;34m\u001b[0m\u001b[0;34m\u001b[0m\u001b[0m\n\u001b[1;32m   1503\u001b[0m         \u001b[0mfull_backward_hooks\u001b[0m\u001b[0;34m,\u001b[0m \u001b[0mnon_full_backward_hooks\u001b[0m \u001b[0;34m=\u001b[0m \u001b[0;34m[\u001b[0m\u001b[0;34m]\u001b[0m\u001b[0;34m,\u001b[0m \u001b[0;34m[\u001b[0m\u001b[0;34m]\u001b[0m\u001b[0;34m\u001b[0m\u001b[0;34m\u001b[0m\u001b[0m\n",
            "\u001b[0;32m/usr/local/lib/python3.9/dist-packages/torch/nn/modules/container.py\u001b[0m in \u001b[0;36mforward\u001b[0;34m(self, input)\u001b[0m\n\u001b[1;32m    215\u001b[0m     \u001b[0;32mdef\u001b[0m \u001b[0mforward\u001b[0m\u001b[0;34m(\u001b[0m\u001b[0mself\u001b[0m\u001b[0;34m,\u001b[0m \u001b[0minput\u001b[0m\u001b[0;34m)\u001b[0m\u001b[0;34m:\u001b[0m\u001b[0;34m\u001b[0m\u001b[0;34m\u001b[0m\u001b[0m\n\u001b[1;32m    216\u001b[0m         \u001b[0;32mfor\u001b[0m \u001b[0mmodule\u001b[0m \u001b[0;32min\u001b[0m \u001b[0mself\u001b[0m\u001b[0;34m:\u001b[0m\u001b[0;34m\u001b[0m\u001b[0;34m\u001b[0m\u001b[0m\n\u001b[0;32m--> 217\u001b[0;31m             \u001b[0minput\u001b[0m \u001b[0;34m=\u001b[0m \u001b[0mmodule\u001b[0m\u001b[0;34m(\u001b[0m\u001b[0minput\u001b[0m\u001b[0;34m)\u001b[0m\u001b[0;34m\u001b[0m\u001b[0;34m\u001b[0m\u001b[0m\n\u001b[0m\u001b[1;32m    218\u001b[0m         \u001b[0;32mreturn\u001b[0m \u001b[0minput\u001b[0m\u001b[0;34m\u001b[0m\u001b[0;34m\u001b[0m\u001b[0m\n\u001b[1;32m    219\u001b[0m \u001b[0;34m\u001b[0m\u001b[0m\n",
            "\u001b[0;32m/usr/local/lib/python3.9/dist-packages/torch/nn/modules/module.py\u001b[0m in \u001b[0;36m_call_impl\u001b[0;34m(self, *args, **kwargs)\u001b[0m\n\u001b[1;32m   1499\u001b[0m                 \u001b[0;32mor\u001b[0m \u001b[0m_global_backward_pre_hooks\u001b[0m \u001b[0;32mor\u001b[0m \u001b[0m_global_backward_hooks\u001b[0m\u001b[0;34m\u001b[0m\u001b[0;34m\u001b[0m\u001b[0m\n\u001b[1;32m   1500\u001b[0m                 or _global_forward_hooks or _global_forward_pre_hooks):\n\u001b[0;32m-> 1501\u001b[0;31m             \u001b[0;32mreturn\u001b[0m \u001b[0mforward_call\u001b[0m\u001b[0;34m(\u001b[0m\u001b[0;34m*\u001b[0m\u001b[0margs\u001b[0m\u001b[0;34m,\u001b[0m \u001b[0;34m**\u001b[0m\u001b[0mkwargs\u001b[0m\u001b[0;34m)\u001b[0m\u001b[0;34m\u001b[0m\u001b[0;34m\u001b[0m\u001b[0m\n\u001b[0m\u001b[1;32m   1502\u001b[0m         \u001b[0;31m# Do not call functions when jit is used\u001b[0m\u001b[0;34m\u001b[0m\u001b[0;34m\u001b[0m\u001b[0m\n\u001b[1;32m   1503\u001b[0m         \u001b[0mfull_backward_hooks\u001b[0m\u001b[0;34m,\u001b[0m \u001b[0mnon_full_backward_hooks\u001b[0m \u001b[0;34m=\u001b[0m \u001b[0;34m[\u001b[0m\u001b[0;34m]\u001b[0m\u001b[0;34m,\u001b[0m \u001b[0;34m[\u001b[0m\u001b[0;34m]\u001b[0m\u001b[0;34m\u001b[0m\u001b[0;34m\u001b[0m\u001b[0m\n",
            "\u001b[0;32m/usr/local/lib/python3.9/dist-packages/torch/nn/modules/activation.py\u001b[0m in \u001b[0;36mforward\u001b[0;34m(self, input)\u001b[0m\n\u001b[1;32m   1457\u001b[0m \u001b[0;34m\u001b[0m\u001b[0m\n\u001b[1;32m   1458\u001b[0m     \u001b[0;32mdef\u001b[0m \u001b[0mforward\u001b[0m\u001b[0;34m(\u001b[0m\u001b[0mself\u001b[0m\u001b[0;34m,\u001b[0m \u001b[0minput\u001b[0m\u001b[0;34m:\u001b[0m \u001b[0mTensor\u001b[0m\u001b[0;34m)\u001b[0m \u001b[0;34m->\u001b[0m \u001b[0mTensor\u001b[0m\u001b[0;34m:\u001b[0m\u001b[0;34m\u001b[0m\u001b[0;34m\u001b[0m\u001b[0m\n\u001b[0;32m-> 1459\u001b[0;31m         \u001b[0;32mreturn\u001b[0m \u001b[0mF\u001b[0m\u001b[0;34m.\u001b[0m\u001b[0msoftmax\u001b[0m\u001b[0;34m(\u001b[0m\u001b[0minput\u001b[0m\u001b[0;34m,\u001b[0m \u001b[0mself\u001b[0m\u001b[0;34m.\u001b[0m\u001b[0mdim\u001b[0m\u001b[0;34m,\u001b[0m \u001b[0m_stacklevel\u001b[0m\u001b[0;34m=\u001b[0m\u001b[0;36m5\u001b[0m\u001b[0;34m)\u001b[0m\u001b[0;34m\u001b[0m\u001b[0;34m\u001b[0m\u001b[0m\n\u001b[0m\u001b[1;32m   1460\u001b[0m \u001b[0;34m\u001b[0m\u001b[0m\n\u001b[1;32m   1461\u001b[0m     \u001b[0;32mdef\u001b[0m \u001b[0mextra_repr\u001b[0m\u001b[0;34m(\u001b[0m\u001b[0mself\u001b[0m\u001b[0;34m)\u001b[0m \u001b[0;34m->\u001b[0m \u001b[0mstr\u001b[0m\u001b[0;34m:\u001b[0m\u001b[0;34m\u001b[0m\u001b[0;34m\u001b[0m\u001b[0m\n",
            "\u001b[0;32m/usr/local/lib/python3.9/dist-packages/torch/nn/functional.py\u001b[0m in \u001b[0;36msoftmax\u001b[0;34m(input, dim, _stacklevel, dtype)\u001b[0m\n\u001b[1;32m   1841\u001b[0m         \u001b[0mdim\u001b[0m \u001b[0;34m=\u001b[0m \u001b[0m_get_softmax_dim\u001b[0m\u001b[0;34m(\u001b[0m\u001b[0;34m\"softmax\"\u001b[0m\u001b[0;34m,\u001b[0m \u001b[0minput\u001b[0m\u001b[0;34m.\u001b[0m\u001b[0mdim\u001b[0m\u001b[0;34m(\u001b[0m\u001b[0;34m)\u001b[0m\u001b[0;34m,\u001b[0m \u001b[0m_stacklevel\u001b[0m\u001b[0;34m)\u001b[0m\u001b[0;34m\u001b[0m\u001b[0;34m\u001b[0m\u001b[0m\n\u001b[1;32m   1842\u001b[0m     \u001b[0;32mif\u001b[0m \u001b[0mdtype\u001b[0m \u001b[0;32mis\u001b[0m \u001b[0;32mNone\u001b[0m\u001b[0;34m:\u001b[0m\u001b[0;34m\u001b[0m\u001b[0;34m\u001b[0m\u001b[0m\n\u001b[0;32m-> 1843\u001b[0;31m         \u001b[0mret\u001b[0m \u001b[0;34m=\u001b[0m \u001b[0minput\u001b[0m\u001b[0;34m.\u001b[0m\u001b[0msoftmax\u001b[0m\u001b[0;34m(\u001b[0m\u001b[0mdim\u001b[0m\u001b[0;34m)\u001b[0m\u001b[0;34m\u001b[0m\u001b[0;34m\u001b[0m\u001b[0m\n\u001b[0m\u001b[1;32m   1844\u001b[0m     \u001b[0;32melse\u001b[0m\u001b[0;34m:\u001b[0m\u001b[0;34m\u001b[0m\u001b[0;34m\u001b[0m\u001b[0m\n\u001b[1;32m   1845\u001b[0m         \u001b[0mret\u001b[0m \u001b[0;34m=\u001b[0m \u001b[0minput\u001b[0m\u001b[0;34m.\u001b[0m\u001b[0msoftmax\u001b[0m\u001b[0;34m(\u001b[0m\u001b[0mdim\u001b[0m\u001b[0;34m,\u001b[0m \u001b[0mdtype\u001b[0m\u001b[0;34m=\u001b[0m\u001b[0mdtype\u001b[0m\u001b[0;34m)\u001b[0m\u001b[0;34m\u001b[0m\u001b[0;34m\u001b[0m\u001b[0m\n",
            "\u001b[0;31mKeyboardInterrupt\u001b[0m: "
          ]
        }
      ],
      "source": [
        "states, actions, advantages, total_len = get_values(p, discount_factor, steps, trajectories, epoches)\n",
        "\n",
        "advantages = np.array(advantages).reshape(-1,1)\n",
        "states = np.array(states)\n",
        "actions = (np.array(actions)-1).reshape(-1,1)"
      ],
      "id": "4201b8f8"
    },
    {
      "cell_type": "code",
      "execution_count": null,
      "metadata": {
        "colab": {
          "base_uri": "https://localhost:8080/",
          "height": 430
        },
        "id": "90fb9fd6",
        "outputId": "3e4eb1eb-a1a7-48ba-ba88-770086f6b435"
      },
      "outputs": [
        {
          "data": {
            "image/png": "[encoded data removed]",
            "text/plain": [
              "<Figure size 640x480 with 1 Axes>"
            ]
          },
          "metadata": {},
          "output_type": "display_data"
        }
      ],
      "source": [
        "c = nn.Sequential(\n",
        "        nn.Linear(2, 7, bias=False),\n",
        "        nn.ReLU(inplace=True),\n",
        "        nn.Linear(7, 1, bias=False),)\n",
        "\n",
        "l = []\n",
        "fig = plt.figure()\n",
        "ax = fig.add_subplot(111)\n",
        "fig.show()\n",
        "fig.canvas.draw()\n",
        "\n",
        "criterion = nn.MSELoss()\n",
        "optimizer = torch.optim.Adam(c.parameters(), lr=0.005)\n",
        "\n",
        "for i in range(100):\n",
        "    optimizer.zero_grad()\n",
        "    idx = np.random.randint(states.shape[0], size=1000)\n",
        "    y = c(torch.tensor(states[idx]).float())\n",
        "    loss = criterion(y, torch.tensor(advantages[idx]).float())\n",
        "    l.append(loss.detach().numpy())\n",
        "    loss.backward()\n",
        "    optimizer.step()\n",
        "ax.clear()\n",
        "ax.plot(l)\n",
        "fig.canvas.draw()\n",
        "plt.show()\n"
      ],
      "id": "90fb9fd6"
    },
    {
      "cell_type": "code",
      "execution_count": null,
      "metadata": {
        "id": "70ea97cd"
      },
      "outputs": [],
      "source": [
        "# bufferp = io.BytesIO()\n",
        "# torch.save(p,bufferp)"
      ],
      "id": "70ea97cd"
    },
    {
      "cell_type": "code",
      "execution_count": null,
      "metadata": {
        "colab": {
          "base_uri": "https://localhost:8080/",
          "height": 222
        },
        "id": "599a9f60",
        "outputId": "3a9b3ede-b26f-43db-e958-73ad68d33a12"
      },
      "outputs": [
        {
          "ename": "NameError",
          "evalue": "ignored",
          "output_type": "error",
          "traceback": [
            "\u001b[0;31m---------------------------------------------------------------------------\u001b[0m",
            "\u001b[0;31mNameError\u001b[0m                                 Traceback (most recent call last)",
            "\u001b[0;32m<ipython-input-11-0ab6f5de0cca>\u001b[0m in \u001b[0;36m<cell line: 3>\u001b[0;34m()\u001b[0m\n\u001b[1;32m      1\u001b[0m \u001b[0;31m# bufferp.seek(0)\u001b[0m\u001b[0;34m\u001b[0m\u001b[0;34m\u001b[0m\u001b[0m\n\u001b[1;32m      2\u001b[0m \u001b[0;31m#policy = torch.load(bufferp)\u001b[0m\u001b[0;34m\u001b[0m\u001b[0;34m\u001b[0m\u001b[0m\n\u001b[0;32m----> 3\u001b[0;31m \u001b[0mpolicy\u001b[0m \u001b[0;34m=\u001b[0m \u001b[0mp\u001b[0m\u001b[0;34m\u001b[0m\u001b[0;34m\u001b[0m\u001b[0m\n\u001b[0m\u001b[1;32m      4\u001b[0m \u001b[0mreinforce_value_baseline\u001b[0m\u001b[0;34m(\u001b[0m\u001b[0mpolicy\u001b[0m\u001b[0;34m,\u001b[0m \u001b[0mc\u001b[0m\u001b[0;34m,\u001b[0m \u001b[0mdiscount_factor\u001b[0m\u001b[0;34m,\u001b[0m \u001b[0msteps\u001b[0m\u001b[0;34m,\u001b[0m \u001b[0mtrajectories\u001b[0m\u001b[0;34m,\u001b[0m \u001b[0mepoches\u001b[0m\u001b[0;34m,\u001b[0m \u001b[0mlr\u001b[0m\u001b[0;34m,\u001b[0m \u001b[0;36m0.1\u001b[0m\u001b[0;34m)\u001b[0m\u001b[0;34m\u001b[0m\u001b[0;34m\u001b[0m\u001b[0m\n",
            "\u001b[0;31mNameError\u001b[0m: name 'p' is not defined"
          ]
        }
      ],
      "source": [
        "# bufferp.seek(0)\n",
        "#policy = torch.load(bufferp)\n",
        "policy = p\n",
        "reinforce_value_baseline(policy, c, discount_factor, steps, trajectories, epoches, lr, 0.1)"
      ],
      "id": "599a9f60"
    },
    {
      "cell_type": "code",
      "execution_count": null,
      "metadata": {
        "colab": {
          "base_uri": "https://localhost:8080/",
          "height": 187
        },
        "id": "mZUAUHlKECxT",
        "outputId": "4ea03d0a-b5cb-42cf-dfd2-f1a4003281b8"
      },
      "outputs": [
        {
          "ename": "NameError",
          "evalue": "ignored",
          "output_type": "error",
          "traceback": [
            "\u001b[0;31m---------------------------------------------------------------------------\u001b[0m",
            "\u001b[0;31mNameError\u001b[0m                                 Traceback (most recent call last)",
            "\u001b[0;32m<ipython-input-12-d5b12f670462>\u001b[0m in \u001b[0;36m<cell line: 2>\u001b[0;34m()\u001b[0m\n\u001b[1;32m      1\u001b[0m \u001b[0;31m# p.save('./checkpoints/my_checkpoint')\u001b[0m\u001b[0;34m\u001b[0m\u001b[0;34m\u001b[0m\u001b[0m\n\u001b[0;32m----> 2\u001b[0;31m \u001b[0mtorch\u001b[0m\u001b[0;34m.\u001b[0m\u001b[0msave\u001b[0m\u001b[0;34m(\u001b[0m\u001b[0mp\u001b[0m\u001b[0;34m,\u001b[0m \u001b[0;34m'./policy'\u001b[0m\u001b[0;34m)\u001b[0m\u001b[0;34m\u001b[0m\u001b[0;34m\u001b[0m\u001b[0m\n\u001b[0m",
            "\u001b[0;31mNameError\u001b[0m: name 'p' is not defined"
          ]
        }
      ],
      "source": [
        "# p.save('./checkpoints/my_checkpoint')\n",
        "torch.save(p, './policy')"
      ],
      "id": "mZUAUHlKECxT"
    },
    {
      "cell_type": "code",
      "execution_count": 10,
      "metadata": {
        "id": "ov7bxxhpJopF"
      },
      "outputs": [],
      "source": [
        "policy = torch.load('./policy')\n",
        "policy_bad = torch.load('./policy_bad')"
      ],
      "id": "ov7bxxhpJopF"
    },
    {
      "cell_type": "code",
      "execution_count": 11,
      "metadata": {
        "id": "gzCPhCWcIzUR"
      },
      "outputs": [],
      "source": [
        "def step(state, action, keep=5):\n",
        "    position, velocity = state\n",
        "    velocity *= 0.06\n",
        "    \n",
        "    terminated = False\n",
        "    for i in range(keep):\n",
        "        velocity += (action - 1) * force + math.cos(3 * position) * (-gravity)\n",
        "        velocity = np.clip(velocity, -max_speed, max_speed)\n",
        "        position += velocity\n",
        "        position = np.clip(position, min_position, max_position)\n",
        "        if position == min_position and velocity < 0:\n",
        "            velocity = 0\n",
        "        terminated = terminated or bool(position >= goal_position)\n",
        "    \n",
        "    reward = 0\n",
        "    if(terminated):\n",
        "        reward = 1\n",
        "\n",
        "    state = (position, velocity/0.06)\n",
        "    return np.array(state, dtype=np.float32), reward, terminated, {}"
      ],
      "id": "gzCPhCWcIzUR"
    },
    {
      "cell_type": "code",
      "execution_count": 12,
      "metadata": {
        "id": "50e6f301"
      },
      "outputs": [],
      "source": [
        "def fill_replay_memory(replay_memory, index, gamma, steps):\n",
        "  end_index = index\n",
        "  end_traj = []\n",
        "  for k in range(20):\n",
        "      s = reset()\n",
        "      start_index = 0\n",
        "      r_sum = 0\n",
        "      runs = 0\n",
        "      weight = 1\n",
        "      d = False\n",
        "      replay_memory_tmp = np.zeros(replay_memory.shape)\n",
        "      while not d:\n",
        "          runs += 1\n",
        "          \n",
        "          if runs > 2*steps:\n",
        "              #print(\"runs is \" + str(runs))\n",
        "              replay_memory_tmp[index-2*steps, -1] = r_sum\n",
        "              break\n",
        "          # if (runs % 3 != 0):\n",
        "          #   a = np.random.choice(3, 1, p=policy(torch.tensor(s).float()).detach().numpy())[0]\n",
        "          # else:\n",
        "          #   a = np.random.choice(3, 1, [1, 1, 1])[0]\n",
        "\n",
        "          p = np.random.uniform()\n",
        "          if(p < 0.8):\n",
        "            a = np.random.choice(3, 1, p=policy(torch.tensor(s).float()).detach().numpy())[0]\n",
        "          else:\n",
        "            a = np.random.choice(3, 1, p=policy_bad(torch.tensor(s).float()).detach().numpy())[0]\n",
        "          # a = np.random.choice(3, 1, p=policy(torch.tensor(s).float()).detach().numpy())[0]\n",
        "          s_new, r, d, i = step(s, a)\n",
        "\n",
        "          replay_memory_tmp, index = insert(replay_memory_tmp, index, transform(s), a-1, r, transform(s_new), r)\n",
        "          # (replay_memory, index, state, action, reward, new_state, value)\n",
        "          s = s_new\n",
        "              # state, action, reward, new state, new action, value\n",
        "          if(runs == 2*steps or d):\n",
        "              r_sum = r\n",
        "      #print(runs)\n",
        "      for i in range(2*steps):\n",
        "          if index-i-1 < start_index:\n",
        "              break\n",
        "          replay_memory_tmp[index-i-1, index_v] = r_sum\n",
        "          r_sum *= gamma\n",
        "      while(((min(index, steps))+end_index) > replay_memory.shape[0]):\n",
        "         replay_memory = np.append(replay_memory, np.zeros(shape=replay_memory.shape), axis = 0)\n",
        "      # print(\"index: \" + str(index))\n",
        "      # print(\"end_index: \" + str(end_index))\n",
        "      # print(replay_memory.shape)\n",
        "      replay_memory[end_index:(end_index + min(index, steps))] = replay_memory_tmp[:(min(index, steps))]\n",
        "      end_index += min(index, steps)\n",
        "      end_traj.append(end_index)\n",
        "      #print(replay_memory_tmp[index-1])\n",
        "      index = 0\n",
        "  return replay_memory, end_index, end_traj"
      ],
      "id": "50e6f301"
    },
    {
      "cell_type": "code",
      "execution_count": 13,
      "metadata": {
        "id": "gv4j2vrt0rZU"
      },
      "outputs": [],
      "source": [
        "def fill_replay_memory_allen(replay_memory, index, gamma, steps):\n",
        "  for k in range(10):\n",
        "      s = reset()\n",
        "      start_index = index\n",
        "      r_sum = 0\n",
        "      runs = 0\n",
        "      quo = 0\n",
        "      skip = 10\n",
        "      d = False\n",
        "      a = 0\n",
        "      while quo < 2*steps and not d:\n",
        "          runs += 1\n",
        "          \n",
        "          if(runs % 3 != 0):\n",
        "              a = np.random.choice(3, 1, p=policy(torch.tensor(s).float()).detach().numpy())[0]\n",
        "          else:\n",
        "              a = np.random.choice(3, 1, p=[0.33, 0.33, 0.34])[0]\n",
        "          s_new, r, d, i = step2(a)\n",
        "\n",
        "          if(quo < 200):\n",
        "              replay_memory, index = insert(replay_memory, index, transform(s), a-1, r, transform(s_new), r)\n",
        "          s = s_new\n",
        "\n",
        "          if(quo >= 2*steps or d):\n",
        "              r_sum = r\n",
        "          quo += 1\n",
        "      for i in range(index-start_index):\n",
        "          replay_memory[start_index+i, -1] = r_sum*(gamma**(runs-i-1))\n",
        "  return replay_memory, index"
      ],
      "id": "gv4j2vrt0rZU"
    },
    {
      "cell_type": "code",
      "execution_count": 14,
      "metadata": {
        "id": "jn5dUbxXdZhc"
      },
      "outputs": [],
      "source": [
        "size_replay_memory = 14\n",
        "replay_memory = np.zeros((1, size_replay_memory))\n",
        "index = 0\n",
        "gamma = 0.98**5\n",
        "steps = 100\n",
        "replay_memory, index, end_traj = fill_replay_memory(replay_memory, index, gamma, steps)"
      ],
      "id": "jn5dUbxXdZhc"
    },
    {
      "cell_type": "code",
      "execution_count": 15,
      "metadata": {
        "colab": {
          "base_uri": "https://localhost:8080/"
        },
        "id": "YoUthAtxXBm-",
        "outputId": "14d60855-0850-4cb3-9462-ced301216b07"
      },
      "outputs": [
        {
          "output_type": "execute_result",
          "data": {
            "text/plain": [
              "577"
            ]
          },
          "metadata": {},
          "execution_count": 15
        }
      ],
      "source": [
        "index"
      ],
      "id": "YoUthAtxXBm-"
    },
    {
      "cell_type": "code",
      "execution_count": null,
      "metadata": {
        "colab": {
          "base_uri": "https://localhost:8080/"
        },
        "id": "Aevf_j218eT6",
        "outputId": "8ec766fc-04f4-4ec7-f28d-398e0a01d83a"
      },
      "outputs": [
        {
          "data": {
            "text/plain": [
              "array([-0.40088093,  0.08073743,  0.91256559,  0.        ,  0.        ,\n",
              "        1.        ,  0.        , -0.37572462,  0.10358059,  0.92092457,\n",
              "        0.        ,  0.        ,  1.        ,  0.10835983])"
            ]
          },
          "execution_count": 15,
          "metadata": {},
          "output_type": "execute_result"
        }
      ],
      "source": [
        "replay_memory[157]"
      ],
      "id": "Aevf_j218eT6"
    },
    {
      "cell_type": "code",
      "execution_count": null,
      "metadata": {
        "colab": {
          "base_uri": "https://localhost:8080/"
        },
        "id": "5bPf4_RrlUZ3",
        "outputId": "00fefc52-b540-4984-9ac5-2644642130d9"
      },
      "outputs": [
        {
          "data": {
            "text/plain": [
              "20"
            ]
          },
          "execution_count": 86,
          "metadata": {},
          "output_type": "execute_result"
        }
      ],
      "source": [
        "np.where(replay_memory[:, index_r] == 1)[0].shape[0]"
      ],
      "id": "5bPf4_RrlUZ3"
    },
    {
      "cell_type": "code",
      "execution_count": null,
      "metadata": {
        "colab": {
          "base_uri": "https://localhost:8080/"
        },
        "id": "1UfA82dNldej",
        "outputId": "4ced6733-4250-4464-efd5-7be26bd0575b"
      },
      "outputs": [
        {
          "data": {
            "text/plain": [
              "0"
            ]
          },
          "execution_count": 87,
          "metadata": {},
          "output_type": "execute_result"
        }
      ],
      "source": [
        "np.where(replay_memory[:index, -1] == 0)[0].shape[0]"
      ],
      "id": "1UfA82dNldej"
    },
    {
      "cell_type": "code",
      "execution_count": 16,
      "metadata": {
        "id": "56c3c013"
      },
      "outputs": [],
      "source": [
        "def get_self_values(M, V, beta=1):\n",
        "    e = np.exp(beta*M@M.T)\n",
        "    p = e/np.sum(e, axis=1, keepdims=True)\n",
        "    return p@V\n",
        "def get_value(Q, K, V, beta=1):\n",
        "    e = np.exp(beta*Q@K.T)\n",
        "    p = e/np.sum(e, axis=1, keepdims=True)\n",
        "    return p@V\n",
        "alpha = 1\n",
        "beta = 50\n",
        "def backup(V_estimate, R, Q, K, V):\n",
        "    return V_estimate*(1-alpha) + alpha*(R + get_value(Q, K, V, beta))"
      ],
      "id": "56c3c013"
    },
    {
      "cell_type": "markdown",
      "source": [],
      "metadata": {
        "id": "5vCOXF1Ym_z1"
      },
      "id": "5vCOXF1Ym_z1"
    },
    {
      "cell_type": "code",
      "execution_count": 17,
      "metadata": {
        "id": "IPxCVkOMEx1I"
      },
      "outputs": [],
      "source": [
        "def Q_estimate(replay_memory, states, actions, index, beta, values):\n",
        "    s_a = np.concatenate((states, actions), axis=1)\n",
        "    f = s_a @ replay_memory[:index, 0:6].T\n",
        "    f = f - np.max(f,axis=1)[:,None]\n",
        "    f = np.exp(beta*f)\n",
        "    f = np.divide(f, f.sum(axis=1)[:,np.newaxis])\n",
        "    return np.sum(np.transpose(values)*f,axis=1),f\n",
        "def backup(replay_memory, index, weighted_states, alpha, beta):\n",
        "  n = index\n",
        "  actions = np.array([one_hot(0), one_hot(-1),one_hot(1)])\n",
        "  actions = np.tile(actions,n).reshape(3*n,3)\n",
        "  states = np.repeat(replay_memory[:index, 7:10], repeats=3, axis=0)\n",
        "\n",
        "  Qvals,a1 = Q_estimate(replay_memory, states,actions,index,beta,weighted_states)\n",
        "  Qvals = Qvals.reshape(((int)(Qvals.shape[0]/3),3))\n",
        "  actionprobs = Qvals - np.max(Qvals,axis=1)[:,None]\n",
        "  gamma = 0.996\n",
        "  actionprobs = np.exp(alpha*actionprobs)\n",
        "  actionprobs = np.divide(actionprobs, actionprobs.sum(axis=1)[:,np.newaxis])\n",
        "  values = np.sum(Qvals*actionprobs,axis=1)\n",
        "  rewards = replay_memory[:index,6]\n",
        "  values = gamma*values+rewards\n",
        "  # values = -values*rewards\n",
        "  for i in range(n):\n",
        "      replay_memory[i][-1]=values[i]\n",
        "  return replay_memory\n",
        "\n",
        "def attention_matrix(replay_memory,index,beta):\n",
        "    next_state = replay_memory[0:index,7:10]\n",
        "    weighted_state = np.exp(beta*np.matmul(next_state, np.transpose(next_state)))\n",
        "    weighted_state = np.divide(weighted_state, weighted_state.sum(axis=1)[:,np.newaxis])\n",
        "    return weighted_state\n",
        "\n",
        "def weighted_values(replay_memory, weighted_states,index):\n",
        "    return np.matmul(weighted_states,replay_memory[0:index,-1])"
      ],
      "id": "IPxCVkOMEx1I"
    },
    {
      "cell_type": "code",
      "execution_count": 18,
      "metadata": {
        "id": "RzXk6zeZXXtz"
      },
      "outputs": [],
      "source": [
        "def backup():\n",
        "  Q = replay_memory_backup[:index, index_s_next:index_v]\n",
        "  K = replay_memory_backup[:index, index_s:index_r]\n",
        "  V = replay_memory_backup[:index, index_v]\n",
        "  f = Q@K.T\n",
        "  f = f - np.max(f,axis=1)[:,None]\n",
        "  e = np.exp(beta*f)\n",
        "  p = e/np.sum(e, axis=1, keepdims=True)\n",
        "  # new_V = p@V\n",
        "  # replay_memory_backup[:index, index_v] = gamma * new_V + replay_memory[:index, index_r]\n",
        "  # for i in np.where(replay_memory[:, index_r] == 1):\n",
        "  #   replay_memory_backup[i, -1] = replay_memory[i, -1]\n",
        "  # return replay_memory_backup\n",
        "  return p "
      ],
      "id": "RzXk6zeZXXtz"
    },
    {
      "cell_type": "code",
      "execution_count": 19,
      "metadata": {
        "id": "zb9N40NWvadJ"
      },
      "outputs": [],
      "source": [
        "def find_bucket(x, A, W, b, m, bucket_indices, amplify, replicate=1):\n",
        "  elem = np.concatenate((np.eye(2*m),-np.eye(2*m)))\n",
        "  phi = W@x +b \n",
        "  # print(phi)\n",
        "  phi = np.concatenate((np.sin(phi),np.cos(phi)))\n",
        "  rotated = [A[i]@(phi.T) for i in range(replicate)]\n",
        "\n",
        "  # rotated = A@x\n",
        "  rotated = [rotated[i] / np.sqrt(np.sum(np.square(rotated[i]),axis =1))[:,None] for i in range(replicate)]\n",
        "  concat_bucket = set()\n",
        "  # print(rotated.shape)\n",
        "  for j in range(replicate): \n",
        "    bucket = 0 \n",
        "    for i in range(amplify):\n",
        "      dists = elem - rotated[j][i]\n",
        "      dists = np.sum(np.square(dists),axis=1)\n",
        "      bucket = bucket *4*m + np.argmin(dists)\n",
        "    concat_bucket.union(bucket_indices[j][i])\n",
        "  return list(concat_bucket), phi \n",
        "\n",
        "def split(replay, length, m, amplify, replicate=1, d=4):\n",
        "  num_buckets = (4*m)**amplify \n",
        "  # indices = [[0 for i in range(num_buckets)] for j in range(replicate)]\n",
        "  bucket_indices = [[set() for i in range(num_buckets)] for j in range(replicate)]\n",
        "  \n",
        "  sigma = 1\n",
        "  W = np.random.multivariate_normal(np.zeros(d),sigma* np.identity(d),m) \n",
        "\n",
        "  A = [np.array([np.random.normal(0,1,(2*m,2*m)) for i in range(amplify)]) for j in range(replicate)] #im not sure if this is right\n",
        "  b = np.random.uniform(0,2*np.pi,m) \n",
        "  \n",
        "  elem = np.concatenate((np.eye(2*m),-np.eye(2*m)))\n",
        "  phi = np.matmul(replay[:length,:d],np.transpose(W))+b\n",
        "  phi = np.concatenate((np.sin(phi),np.cos(phi)), axis=1)\n",
        "  print(phi.shape)\n",
        "  rotation = [A[j]@(phi.T) for j in range(replicate)]\n",
        "  rotations = [np.transpose(rotation[j],[0,2,1]) for j in range(replicate)]\n",
        "  normed = [rotations[j] / np.sqrt(np.sum(np.square(rotations[j]),axis =2))[:,:,None] for j in range(replicate)]\n",
        "  \n",
        "  for i in range(length): \n",
        "      # rotated = np.matmul(A[0],phi[i])\n",
        "      # rotated = rotation[i]\n",
        "      # norm = np.sum(np.square(rotated))**.5\n",
        "      for k in range(replicate):\n",
        "        bucket = 0 \n",
        "        for j in range(amplify):\n",
        "          dists = elem - normed[k][j][i]\n",
        "          dists = np.sum(np.square(dists),axis=1)\n",
        "          bucket = bucket*4*m + np.argmin(dists)\n",
        "          # bucket_indices[k][bucket][indices[k][bucket]] = i\n",
        "          bucket_indices[k][bucket].add(i)\n",
        "          # indices[k][bucket] += 1  \n",
        "\n",
        "  return bucket_indices, A, W, b"
      ],
      "id": "zb9N40NWvadJ"
    },
    {
      "cell_type": "code",
      "execution_count": 20,
      "metadata": {
        "id": "mtGl5SuOw34y"
      },
      "outputs": [],
      "source": [
        "def performer(queries, beta, tests, states, d, kernel='trig'):\n",
        "    beta = beta\n",
        "    # tests = 1000\n",
        "    preds = np.empty((tests, 1)) # attention\n",
        "    performer = np.empty((tests, 1))\n",
        "    reward_preds = np.empty((tests, 1)) # true rewards\n",
        "    # states = np.empty((tests, bandit_dim + 1))\n",
        "    # initialize performer\n",
        "    l = 2\n",
        "    m = 1024 * int(math.sqrt(d))\n",
        "    w = np.random.multivariate_normal(mean=np.zeros(d), cov=np.identity(d), size=(m)) # shape: m * 4\n",
        "    def ortho_random(m, d, ortho=False, s=1):\n",
        "        if ortho:\n",
        "            #less bugged\n",
        "            W = np.random.multivariate_normal(np.zeros(d), s*np.identity(d), (math.ceil(m/d), d))\n",
        "            W, _ = np.linalg.qr(W)\n",
        "            W = W.reshape(-1, d)\n",
        "            W = np.vstack(W)\n",
        "            #mult = np.sqrt(d)\n",
        "            mult = np.linalg.norm(np.random.multivariate_normal(np.zeros(d), s*np.identity(d), (m)), axis=1).reshape(-1, 1)\n",
        "            W = W[0:m]*mult\n",
        "        else:\n",
        "            W = np.random.multivariate_normal(np.zeros(d), s*np.identity(d), (m))\n",
        "            #mult = np.linalg.norm(W, axis=1).reshape(-1, 1)\n",
        "            #W = np.sqrt(d)*W/mult\n",
        "\n",
        "        return W[0:m]\n",
        "    w = ortho_random(m, d, True)\n",
        "    \n",
        "    def phi(x, kernel='trig'):\n",
        "        tmp = x@w.T\n",
        "        norms = LA.norm(x, axis=1)\n",
        "        scaler = 0 \n",
        "        if kernel == 'trig':\n",
        "            tmp1 = np.sin(tmp)\n",
        "            tmp2 = np.cos(tmp)\n",
        "            tmp = np.concatenate((tmp1, tmp2), axis=1)\n",
        "            # print(norms.shape)\n",
        "            # norms = norms - np.max(norms)\n",
        "            tmp = (tmp.T * np.exp(norms**2/2)).T\n",
        "        elif kernel == 'exp':\n",
        "            tmp1 = np.exp(tmp)\n",
        "            tmp2 = np.exp(-tmp)\n",
        "\n",
        "            tmp = np.concatenate((tmp1, tmp2), axis=1)\n",
        "            scaled_norms = -(norms**2/2)\n",
        "            scaler = np.max(scaled_norms)\n",
        "            scaled_norms = scaled_norms - np.max(scaled_norms)\n",
        "            tmp = (tmp.T *np.exp(scaled_norms)).T\n",
        "            tmp /= math.sqrt(2)\n",
        "        elif kernel == 'exp_1':\n",
        "            tmp1 = np.exp(tmp)\n",
        "            tmp = (tmp.T * np.exp(-norms**2/2)).T \n",
        "         # trials * m\n",
        "        \n",
        "        tmp /= math.sqrt(m)\n",
        "        # print(tmp.shape,norms.shape)\n",
        "        return tmp, scaler\n",
        "    \n",
        "# performers\n",
        "    phi_s, query_scale = phi(math.sqrt(beta) * states, kernel)\n",
        "    phi_buffer, keys_scale = phi(math.sqrt(beta) * queries, kernel)\n",
        "    # prod = (phi_buffer @ phi_s.T)\n",
        "#     prod = np.power(prod, beta)\n",
        "    # performer_raw_weights = prod\n",
        "    #prod /= np.sum(prod, axis=0) # normalization\n",
        "    return phi_buffer,query_scale, phi_s, keys_scale\n",
        "\n",
        "def combined(keys, index, sa, values, bucket_indices, A_lsh, W_lsh, b_lsh, m_lsh, amplify, replicate, beta = 1): \n",
        "  # print(\"start\")\n",
        "  mapped_memory, q_scale, mapped_sa, k_scale = performer(keys, beta, sa.shape[0], sa, keys.shape[1], kernel = 'exp')\n",
        "  # print(\"end\")\n",
        "  # print(mapped_memory.shape, mapped_sa.shape) \n",
        "  sparse_attention = np.zeros((sa.shape[0],index))\n",
        "  # print('start')\n",
        "\n",
        "  for i,entry in enumerate(sa): \n",
        "    bucket, _ =  find_bucket(entry, A_lsh, W_lsh, b_lsh, m_lsh, bucket_indices, amplify, replicate)\n",
        "    # attention_mult = np.exp(sa[i] @ replay_memory[bucket_indices[bucket][:bucket_lengths[bucket]]].T)\n",
        "    # approx_mult = mapped_sa[i] @ mapped_memory[bucket_indices[bucket][:bucket_lengths[bucket]]].T\n",
        "\n",
        "    # for k,j in enumerate(bucket_indices[bucket][:bucket_lengths[bucket]]):\n",
        "    #     # sparse_attention[i][int(j)] = 1\n",
        "    #     # sparse_attention[i][int(j)] = np.exp(beta * sa[i]@replay_memory[int(j)].T) - mapped_sa[i] @ mapped_memory[int(j)]\n",
        "    #     sparse_attention[i][int(j)] = attention_mult[k] - approx_mult[k]\n",
        "    attention_mult = np.exp(beta * (sa[i] @ keys[bucket].T)-q_scale-k_scale)\n",
        "    approx_mult = mapped_sa[i] @ mapped_memory[bucket].T\n",
        "\n",
        "    for k,j in enumerate(bucket): \n",
        "        # sparse_attention[i][intj)] = 1\n",
        "        # sparse_attention[i][int(j)] = np.exp(beta * sa[i]@replay_memory[int(j)].T) - mapped_sa[i] @ mapped_memory[int(j)]\n",
        "        sparse_attention[i][int(j)] = attention_mult[k] - approx_mult[k]\n",
        "\n",
        "  # print('end')\n",
        "  sparse_attention = sparse.csr_matrix(sparse_attention)\n",
        "  normalization = mapped_sa@(mapped_memory.T @ np.ones((index,1)))\n",
        "  normalization += sparse_attention @ np.ones((index,1))\n",
        "  # print(normalization.shape)\n",
        "  predictions = mapped_memory.T @ values\n",
        "  predictions = mapped_sa @ predictions\n",
        "  # return mapped_sa@mapped_memory.T+sparse_attention,(predictions + sparse_attention @ rewards)[:,None]/normalization\n",
        "  # return (predictions + sparse_attention @ values)[:,None]/normalization\n",
        "  return ((mapped_sa@ mapped_memory.T ) + sparse_attention)/normalization\n",
        "# def combined(keys, index, sa, values, bucket_indices, A_lsh, W_lsh, b_lsh, m_lsh, amplify, replicate, beta = 1): \n",
        "#   mapped_memory, mapped_sa = performer(keys, beta, sa.shape[0], sa, keys.shape[1])\n",
        "#   normalization = mapped_sa@(mapped_memory.T @ np.ones((index,1)))\n",
        "\n",
        "#   predictions = mapped_memory.T @ values\n",
        "#   predictions = mapped_sa @ predictions\n",
        "#   # return mapped_sa@mapped_memory.T+sparse_attention,(predictions + sparse_attention @ rewards)[:,None]/normalization\n",
        "#   return predictions[:,None]/normalization"
      ],
      "id": "mtGl5SuOw34y"
    },
    {
      "cell_type": "code",
      "execution_count": null,
      "metadata": {
        "colab": {
          "base_uri": "https://localhost:8080/"
        },
        "id": "2gT_QI0Z0sHB",
        "outputId": "1344b98b-2d9d-4e11-fad5-b98dc4f5140a"
      },
      "outputs": [
        {
          "name": "stderr",
          "output_type": "stream",
          "text": [
            "/usr/local/lib/python3.9/dist-packages/ipykernel/ipkernel.py:283: DeprecationWarning: `should_run_async` will not call `transform_cell` automatically in the future. Please pass the result to `transformed_cell` argument and any exception that happen during thetransform in `preprocessing_exc_tuple` in IPython 7.17 and above.\n",
            "  and should_run_async(code)\n"
          ]
        },
        {
          "data": {
            "text/plain": [
              "array([[2, 3, 4],\n",
              "       [3, 4, 5],\n",
              "       [4, 5, 6],\n",
              "       [5, 6, 7]])"
            ]
          },
          "execution_count": 34,
          "metadata": {},
          "output_type": "execute_result"
        }
      ],
      "source": [
        "np.array([[1,2,3,4],[1,2,3,4],[1,2,3,4]]).T + np.array([1,2,3])"
      ],
      "id": "2gT_QI0Z0sHB"
    },
    {
      "cell_type": "code",
      "execution_count": 49,
      "metadata": {
        "id": "iTiQWXqUuFnW"
      },
      "outputs": [],
      "source": [
        "def fast_backup(m_lsh, amp_lsh, repl_lsh): \n",
        "  Q = replay_memory_backup[:index, index_s_next:index_v]\n",
        "  K = replay_memory_backup[:index, index_s:index_r]\n",
        "  V = replay_memory_backup[:index, index_v]\n",
        "  R = replay_memory_backup[:index, index_r]\n",
        "  pred = combined(K, index, Q, V, bucket_indices, A, W, b, m_lsh, amp_lsh, repl_lsh, beta)\n",
        "  return pred \n",
        "  # replay_memory_backup[:index, index_v] = gamma * pred.squeeze() + R\n",
        "  # for i in np.where(replay_memory[:, index_r] == 1):\n",
        "  #   replay_memory_backup[i, -1] = replay_memory[i, -1]\n",
        "  # return replay_memory_backup"
      ],
      "id": "iTiQWXqUuFnW"
    },
    {
      "cell_type": "code",
      "execution_count": 77,
      "metadata": {
        "colab": {
          "base_uri": "https://localhost:8080/"
        },
        "id": "M0zbkqn88DIp",
        "outputId": "743b2c18-bd52-4ef7-94d7-714ffdbb9282"
      },
      "outputs": [
        {
          "output_type": "stream",
          "name": "stdout",
          "text": [
            "(5, 6)\n",
            "(577, 10)\n",
            "(577, 4096) (577,)\n",
            "(577, 4096) (577,)\n"
          ]
        },
        {
          "output_type": "execute_result",
          "data": {
            "text/plain": [
              "2.8138107414144"
            ]
          },
          "metadata": {},
          "execution_count": 77
        }
      ],
      "source": [
        "m_lsh = 5\n",
        "amp = 2\n",
        "repl = 2\n",
        "beta = 10\n",
        "replay_memory_backup = np.copy(replay_memory)\n",
        "\n",
        "bucket_indices, A, W, b = split(replay_memory_backup[:index, index_s:index_r], index, m_lsh, amp, repl, index_r-index_s)\n",
        "\n",
        "np.sum(np.square(fast_backup(m_lsh,amp,repl)-backup()))"
      ],
      "id": "M0zbkqn88DIp"
    },
    {
      "cell_type": "code",
      "execution_count": null,
      "metadata": {
        "colab": {
          "base_uri": "https://localhost:8080/",
          "height": 240
        },
        "id": "b4smBIB0ldvw",
        "outputId": "db2d2b24-8edd-4dfb-abf6-39960e390f3d"
      },
      "outputs": [
        {
          "output_type": "error",
          "ename": "NameError",
          "evalue": "ignored",
          "traceback": [
            "\u001b[0;31m---------------------------------------------------------------------------\u001b[0m",
            "\u001b[0;31mNameError\u001b[0m                                 Traceback (most recent call last)",
            "\u001b[0;32m<ipython-input-1-85baf3116651>\u001b[0m in \u001b[0;36m<cell line: 3>\u001b[0;34m()\u001b[0m\n\u001b[1;32m      1\u001b[0m \u001b[0;32mfrom\u001b[0m \u001b[0mtqdm\u001b[0m \u001b[0;32mimport\u001b[0m \u001b[0mtqdm\u001b[0m\u001b[0;34m\u001b[0m\u001b[0;34m\u001b[0m\u001b[0m\n\u001b[1;32m      2\u001b[0m \u001b[0mbeta\u001b[0m\u001b[0;34m=\u001b[0m \u001b[0;36m1200\u001b[0m\u001b[0;34m\u001b[0m\u001b[0;34m\u001b[0m\u001b[0m\n\u001b[0;32m----> 3\u001b[0;31m \u001b[0mreplay_memory_backup\u001b[0m \u001b[0;34m=\u001b[0m \u001b[0mnp\u001b[0m\u001b[0;34m.\u001b[0m\u001b[0mcopy\u001b[0m\u001b[0;34m(\u001b[0m\u001b[0mreplay_memory\u001b[0m\u001b[0;34m)\u001b[0m\u001b[0;34m\u001b[0m\u001b[0;34m\u001b[0m\u001b[0m\n\u001b[0m\u001b[1;32m      4\u001b[0m \u001b[0mm_lsh\u001b[0m \u001b[0;34m=\u001b[0m \u001b[0;36m10\u001b[0m\u001b[0;34m\u001b[0m\u001b[0;34m\u001b[0m\u001b[0m\n\u001b[1;32m      5\u001b[0m \u001b[0mamp\u001b[0m \u001b[0;34m=\u001b[0m \u001b[0;36m2\u001b[0m\u001b[0;34m\u001b[0m\u001b[0;34m\u001b[0m\u001b[0m\n",
            "\u001b[0;31mNameError\u001b[0m: name 'np' is not defined"
          ]
        }
      ],
      "source": [
        "from tqdm import tqdm\n",
        "beta= 1200\n",
        "replay_memory_backup = np.copy(replay_memory)\n",
        "m_lsh = 10\n",
        "amp = 2\n",
        "repl = 2\n",
        "bucket_indices, A,  W, b = split(replay_memory_backup[:index, index_s:index_r], index, m_lsh, amp, repl, index_r-index_s)\n",
        "for i in tqdm(range(100)):\n",
        "  # replay_memory_backup = backup() # backup(replay_memory, index, weighted_states, alpha, beta)\n",
        "  replay_memory_backup = fast_backup(m_lsh,amp,repl) # backup(replay_memory, index, weighted_states, alpha, beta)\n",
        "# \n",
        "# replay_memory_backup[:index,-1]"
      ],
      "id": "b4smBIB0ldvw"
    },
    {
      "cell_type": "code",
      "execution_count": null,
      "metadata": {
        "id": "MN-hXWcS028O"
      },
      "outputs": [],
      "source": [
        "lsh_vals = np.copy(replay_memory_backup[:index,-1])"
      ],
      "id": "MN-hXWcS028O"
    },
    {
      "cell_type": "code",
      "execution_count": null,
      "metadata": {
        "colab": {
          "base_uri": "https://localhost:8080/"
        },
        "id": "65K6f8h3_i68",
        "outputId": "214bf526-3c3a-49be-d6e5-199938e913c0"
      },
      "outputs": [
        {
          "output_type": "execute_result",
          "data": {
            "text/plain": [
              "array([0.22700977, 0.22699989, 0.22698371, 0.22698037, 0.2269801 ,\n",
              "       0.22698008, 0.4727109 , 0.22698008, 0.4727109 , 0.4727109 ,\n",
              "       0.4727109 , 0.4727109 , 0.4727109 , 0.4727109 , 0.4727109 ,\n",
              "       0.22960631, 0.22945764, 0.22932399, 0.22932399, 0.22931697,\n",
              "       0.22703388, 0.22698009, 0.4727109 , 0.4727109 , 0.4727109 ,\n",
              "       0.4727109 , 0.70335248, 0.47271091, 0.48683472, 0.70335553,\n",
              "       0.90287298, 1.        , 0.4727109 , 0.22702061, 0.22717965,\n",
              "       0.2275841 , 0.22724495, 0.22699925, 0.22698057, 0.22698009,\n",
              "       0.4727109 , 0.4727109 , 0.22978197, 0.4727109 , 0.4727109 ,\n",
              "       0.4727109 , 0.4727109 , 0.47271093, 0.47276286, 0.53418718,\n",
              "       0.86970583, 0.89647838, 0.22959425, 0.22960645, 0.22932534,\n",
              "       0.22932399, 0.22932399, 0.22906274, 0.22698092, 0.4727109 ,\n",
              "       0.22698008, 0.4727109 , 0.4727109 , 0.4727109 , 0.4727109 ,\n",
              "       0.47646521, 0.90191006, 0.90283886, 1.        , 0.23011017,\n",
              "       0.22701264, 0.22703291, 0.23011035, 0.4727109 , 0.4727109 ,\n",
              "       0.4727109 , 0.4727109 , 0.4727109 , 0.4727109 , 0.4727109 ,\n",
              "       0.4727109 , 0.4727109 , 0.22992219, 0.22932399, 0.23011035,\n",
              "       0.22932301, 0.2284232 , 0.22698161, 0.4727109 , 0.22698008,\n",
              "       0.4727109 , 0.4727109 , 0.4727109 , 0.23623257, 0.4727109 ,\n",
              "       0.47271092, 0.67754963, 0.9022305 , 0.90286661, 1.        ,\n",
              "       0.4727109 , 0.4727109 , 0.4727109 , 0.4727109 , 0.2280674 ,\n",
              "       0.4727109 , 0.22808601, 0.22770584, 0.22704655, 0.4727109 ,\n",
              "       0.22698008, 0.22698008, 0.4727109 , 0.4727109 , 0.4727109 ,\n",
              "       0.4727109 , 0.4727109 , 0.4727109 , 0.4727109 , 0.47271102,\n",
              "       0.2296166 , 0.22960002, 0.229324  , 0.4727109 , 0.22932393,\n",
              "       0.22890939, 0.22698142, 0.23011035, 0.4727109 , 0.4727109 ,\n",
              "       0.4727109 , 0.4727109 , 0.4727109 , 0.47316508, 0.90186314,\n",
              "       0.90274369, 1.        , 0.4727109 , 0.4727109 , 0.22799288,\n",
              "       0.23010901, 0.22838522, 0.22860147, 0.22745016, 0.22699299,\n",
              "       0.22698023, 0.4727109 , 0.4727109 , 0.4727109 , 0.4727109 ,\n",
              "       0.4727109 , 0.22937825, 0.22929619, 0.4727109 , 0.22929885,\n",
              "       0.4727109 , 0.4727109 , 0.22932665, 0.22932399, 0.22932398,\n",
              "       0.22922715, 0.23011035, 0.22698008, 0.4727109 , 0.4727109 ,\n",
              "       0.4727109 , 0.4727109 , 0.4727109 , 0.47275982, 0.90176614,\n",
              "       0.9026376 , 1.        , 0.22698042, 0.22698039, 0.23011035,\n",
              "       0.2269801 , 0.2269801 , 0.4727109 , 0.4727109 , 0.4727109 ,\n",
              "       0.4727109 , 0.4727109 , 0.4727109 , 0.4727109 , 0.22931287,\n",
              "       0.23009197, 0.22932399, 0.22932398, 0.22931524, 0.22715847,\n",
              "       0.22698014, 0.22698008, 0.4727109 , 0.4727109 , 0.4727109 ,\n",
              "       0.4727109 , 0.4727109 , 0.47275982, 0.90176614, 0.9026376 ,\n",
              "       1.        , 0.22703485, 0.22701464, 0.22698548, 0.22698043,\n",
              "       0.2269801 , 0.22698008, 0.4727109 , 0.4727109 , 0.4727109 ,\n",
              "       0.4727109 , 0.4727109 , 0.4727109 , 0.7033513 , 0.2302402 ,\n",
              "       0.22952635, 0.22932399, 0.22932399, 0.22932139, 0.22714517,\n",
              "       0.2269801 , 0.22698008, 0.4727109 , 0.22698008, 0.4727109 ,\n",
              "       0.4727109 , 0.4727109 , 0.472711  , 0.78898604, 0.90239587,\n",
              "       0.90286898, 1.        , 0.4727109 , 0.4727109 , 0.4727109 ,\n",
              "       0.4727109 , 0.4727109 , 0.4727109 , 0.4727109 , 0.23008741,\n",
              "       0.22932398, 0.2293239 , 0.22929802, 0.22713187, 0.4727109 ,\n",
              "       0.22698008, 0.23011035, 0.4727109 , 0.4727109 , 0.4727109 ,\n",
              "       0.4727109 , 0.77861165, 0.47271093, 0.54127485, 0.90252876,\n",
              "       0.90287057, 1.        , 0.22698404, 0.22698319, 0.22698103,\n",
              "       0.22698023, 0.23011035, 0.22698008, 0.4727109 , 0.4727109 ,\n",
              "       0.4727109 , 0.4727109 , 0.4727109 , 0.4727109 , 0.4727109 ,\n",
              "       0.4727109 , 0.4727109 , 0.22991875, 0.22932403, 0.22932399,\n",
              "       0.22932387, 0.228562  , 0.22698064, 0.22698008, 0.4727109 ,\n",
              "       0.4727109 , 0.4727109 , 0.4727109 , 0.70335248, 0.47271101,\n",
              "       0.60063527, 0.90267794, 0.90287169, 1.        , 0.4727109 ,\n",
              "       0.4727109 , 0.4727109 , 0.4727109 , 0.4727109 , 0.4727109 ,\n",
              "       0.4727109 , 0.31954865, 0.22932399, 0.22932398, 0.23011035,\n",
              "       0.22772483, 0.22698107, 0.22698008, 0.22698008, 0.22698008,\n",
              "       0.4727109 , 0.4727109 , 0.4727109 , 0.4727109 , 0.4727109 ,\n",
              "       0.47356595, 0.90187123, 0.90277011, 1.        , 0.22698067,\n",
              "       0.2269806 , 0.22698033, 0.22698016, 0.2269801 , 0.22698009,\n",
              "       0.22698008, 0.4727109 , 0.4727109 , 0.4727109 , 0.22929582,\n",
              "       0.4727109 , 0.4727109 , 0.4727109 , 0.4727109 , 0.2296824 ,\n",
              "       0.22932401, 0.22932399, 0.22932373, 0.22860153, 0.22698114,\n",
              "       0.22698008, 0.22698008, 0.4727109 , 0.22698008, 0.4727109 ,\n",
              "       0.4727109 , 0.4727109 , 0.47271127, 0.85282487, 0.90254407,\n",
              "       1.        , 0.4727109 , 0.4727109 , 0.2273883 , 0.4727109 ,\n",
              "       0.22776468, 0.23011035, 0.22705215, 0.4727109 , 0.22698013,\n",
              "       0.22698009, 0.22698008, 0.4727109 , 0.4727109 , 0.4727109 ,\n",
              "       0.28993482, 0.4727109 , 0.4727109 , 0.4727109 , 0.4727109 ,\n",
              "       0.22995223, 0.22932399, 0.22932398, 0.22932104, 0.2276673 ,\n",
              "       0.22698046, 0.22698008, 0.22698008, 0.4727109 , 0.4727109 ,\n",
              "       0.4727109 , 0.4727109 , 0.4727109 , 0.47356595, 0.90187123,\n",
              "       0.90277011, 1.        , 0.4727109 , 0.22704167, 0.22704526,\n",
              "       0.22699433, 0.22698112, 0.22698013, 0.22698008, 0.22698008,\n",
              "       0.22698008, 0.4727109 , 0.4727109 , 0.22710972, 0.4727109 ,\n",
              "       0.4727109 , 0.4727109 , 0.67576935, 0.4727109 , 0.4727109 ,\n",
              "       0.229324  , 0.22932399, 0.2293233 , 0.22810328, 0.22698057,\n",
              "       0.22698008, 0.4727109 , 0.4727109 , 0.4727109 , 0.4727109 ,\n",
              "       0.4727109 , 0.47272254, 0.90148125, 0.90253657, 1.        ,\n",
              "       0.22698191, 0.22698159, 0.22698064, 0.2269802 , 0.2269801 ,\n",
              "       0.22698008, 0.22698008, 0.4727109 , 0.4727109 , 0.4727109 ,\n",
              "       0.4727109 , 0.4727109 , 0.4727109 , 0.4727109 , 0.4727109 ,\n",
              "       0.4727109 , 0.4727109 , 0.4727109 , 0.22932404, 0.22932399,\n",
              "       0.22932389, 0.22864559, 0.22698072, 0.47271071, 0.4727109 ,\n",
              "       0.4727109 , 0.4727109 , 0.4727109 , 0.4727109 , 0.57510028,\n",
              "       0.90193883, 0.90284651, 1.        , 0.22698054, 0.2269805 ,\n",
              "       0.22698029, 0.22698015, 0.23011035, 0.4727109 , 0.23006218,\n",
              "       0.4727109 , 0.4727109 , 0.4727109 , 0.4727109 , 0.4727109 ,\n",
              "       0.4727109 , 0.4727109 , 0.4727109 , 0.4727109 , 0.22932399,\n",
              "       0.22932393, 0.22926283, 0.22701226, 0.22698009, 0.22698008,\n",
              "       0.22698008, 0.4727109 , 0.4727109 , 0.4727109 , 0.4727109 ,\n",
              "       0.4727109 , 0.52371751, 0.90193659, 0.90284641, 1.        ,\n",
              "       0.22703025, 0.22709349, 0.22702407, 0.23011035, 0.22698017,\n",
              "       0.22698009, 0.22698008, 0.22698008, 0.4727109 , 0.4727109 ,\n",
              "       0.4727109 , 0.4727109 , 0.4727109 , 0.4727109 , 0.4727109 ,\n",
              "       0.47271093, 0.47271226, 0.47271186, 0.22959975, 0.229324  ,\n",
              "       0.22932399, 0.22932378, 0.22790053, 0.2269802 , 0.4727109 ,\n",
              "       0.4727109 , 0.4727109 , 0.4727109 , 0.70335248, 0.70335248,\n",
              "       0.47271186, 0.49194997, 0.23235019, 0.90287331, 0.90287336,\n",
              "       0.90287337, 1.        , 0.4727109 , 0.4727109 , 0.4727109 ,\n",
              "       0.4727109 , 0.4727109 , 0.4727109 , 0.4727109 , 0.23000652,\n",
              "       0.22932381, 0.22932377, 0.22930644, 0.22740466, 0.22698058,\n",
              "       0.22698008, 0.22698008, 0.22698008, 0.4727109 , 0.4727109 ,\n",
              "       0.22698008, 0.4727109 , 0.4727109 , 0.47271092, 0.56139536,\n",
              "       0.90239432, 0.90286924, 1.        , 0.23010737, 0.22707376,\n",
              "       0.227377  , 0.22720869, 0.22700279, 0.4727109 , 0.22698008,\n",
              "       0.22698008, 0.4727109 , 0.4727109 , 0.4727109 , 0.22929575,\n",
              "       0.4727109 , 0.4727109 , 0.57018851, 0.4727109 , 0.22932423,\n",
              "       0.22932399, 0.22932393, 0.22916546, 0.22698722, 0.4727109 ,\n",
              "       0.22698008, 0.23011034, 0.4727109 , 0.4727109 , 0.4727109 ,\n",
              "       0.4727109 , 0.47271186, 0.72249428, 0.90258422, 1.        ,\n",
              "       0.22809638, 0.22761149, 0.22702831, 0.22698105, 0.22698009,\n",
              "       0.22698008, 0.4727109 , 0.4727109 , 0.4727109 , 0.4727109 ,\n",
              "       0.4727109 , 0.4727109 , 0.47271557, 0.59559008, 0.70612889,\n",
              "       0.90287335, 0.90287337, 0.90287337, 1.        , 0.22821497,\n",
              "       0.22769517, 0.2270342 , 0.4727109 , 0.22698008, 0.22698008,\n",
              "       0.4727109 , 0.4727109 , 0.4727109 , 0.4727109 , 0.4727109 ,\n",
              "       0.4727109 , 0.4727109 , 0.47271138, 0.22933585, 0.47272826,\n",
              "       0.22960031, 0.22932401, 0.22932399, 0.22932381, 0.47270826,\n",
              "       0.22698015, 0.22698008, 0.4727109 , 0.22698008, 0.4727109 ,\n",
              "       0.4727109 , 0.4727109 , 0.47271092, 0.70335248, 0.70336015,\n",
              "       0.90287319, 0.90287335, 1.        ])"
            ]
          },
          "metadata": {},
          "execution_count": 59
        }
      ],
      "source": [
        "lsh_vals"
      ],
      "id": "65K6f8h3_i68"
    },
    {
      "cell_type": "code",
      "execution_count": null,
      "metadata": {
        "colab": {
          "base_uri": "https://localhost:8080/"
        },
        "id": "TYoG7P9yAbty",
        "outputId": "80a026dc-3a57-47e3-9937-d3bba6147dae"
      },
      "outputs": [
        {
          "output_type": "stream",
          "name": "stderr",
          "text": [
            "100%|██████████| 100/100 [00:01<00:00, 63.62it/s]\n"
          ]
        }
      ],
      "source": [
        "from tqdm import tqdm\n",
        "beta=1200\n",
        "replay_memory_backup_ref = np.copy(replay_memory)\n",
        "# m_lsh = 10\n",
        "# amp = 1\n",
        "# repl = 1\n",
        "# bucket_indices, A, W, b = split(replay_memory_backup[:index, index_s:index_r], index, m_lsh, amp, repl, index_r-index_s)\n",
        "for i in tqdm(range(100)):\n",
        "  replay_memory_backup = backup() # backup(replay_memory, index, weighted_states, alpha, beta)\n",
        "  # replay_memory_backup = fast_backup(m_lsh,amp,repl) # backup(replay_memory, index, weighted_states, alpha, beta)\n",
        "# \n",
        "# replay_memory_backup[:index,-1]"
      ],
      "id": "TYoG7P9yAbty"
    },
    {
      "cell_type": "code",
      "execution_count": null,
      "metadata": {
        "id": "L07WT3lN6rbQ"
      },
      "outputs": [],
      "source": [
        "def rmse(A, B):\n",
        "  return math.sqrt((( A-B)**2).mean(axis=0))"
      ],
      "id": "L07WT3lN6rbQ"
    },
    {
      "cell_type": "code",
      "execution_count": null,
      "metadata": {
        "colab": {
          "base_uri": "https://localhost:8080/"
        },
        "id": "R4gKtOs87OnM",
        "outputId": "3b5fba2f-a53c-46ac-91ec-947c69ef2cee"
      },
      "outputs": [
        {
          "output_type": "execute_result",
          "data": {
            "text/plain": [
              "0.058532597834356506"
            ]
          },
          "metadata": {},
          "execution_count": 55
        }
      ],
      "source": [
        "rmse(replay_memory_backup[:index,-1], replay_memory[:index,-1])"
      ],
      "id": "R4gKtOs87OnM"
    },
    {
      "cell_type": "code",
      "execution_count": null,
      "metadata": {
        "colab": {
          "base_uri": "https://localhost:8080/"
        },
        "id": "u5oaaQy31F7n",
        "outputId": "8a4971dd-c5b6-45b2-c748-e7d75ea42eb5"
      },
      "outputs": [
        {
          "output_type": "execute_result",
          "data": {
            "text/plain": [
              "0.2962453615771363"
            ]
          },
          "metadata": {},
          "execution_count": 50
        }
      ],
      "source": [
        "rmse(replay_memory_backup[:index,-1], lsh_vals)"
      ],
      "id": "u5oaaQy31F7n"
    },
    {
      "cell_type": "code",
      "execution_count": null,
      "metadata": {
        "colab": {
          "base_uri": "https://localhost:8080/"
        },
        "id": "rxtty1n7K2AV",
        "outputId": "bebfd898-2f2a-41b7-f22b-331cb6417d16"
      },
      "outputs": [
        {
          "data": {
            "text/plain": [
              "array([0.35439261, 0.47523094, 0.80533312, 0.        , 0.        ,\n",
              "       1.        , 0.        , 0.37830162, 0.47417563, 0.7950128 ,\n",
              "       0.        , 0.        , 1.        , 0.96459313])"
            ]
          },
          "execution_count": 70,
          "metadata": {},
          "output_type": "execute_result"
        }
      ],
      "source": [
        "replay_memory_backup[150]"
      ],
      "id": "rxtty1n7K2AV"
    },
    {
      "cell_type": "code",
      "execution_count": null,
      "metadata": {
        "colab": {
          "base_uri": "https://localhost:8080/"
        },
        "id": "2WM6pCZ7NfUJ",
        "outputId": "e73af0fc-9516-4d21-b608-cd9217ba94f7"
      },
      "outputs": [
        {
          "data": {
            "text/plain": [
              "array([-0.46344027,  0.        ,  0.88612816,  0.        ,  0.        ,\n",
              "        1.        ,  0.        , -0.46269712,  0.0147063 ,  0.88639444,\n",
              "        0.        ,  0.        ,  1.        ,  0.09218854])"
            ]
          },
          "execution_count": 24,
          "metadata": {},
          "output_type": "execute_result"
        }
      ],
      "source": [
        "replay_memory[0]"
      ],
      "id": "2WM6pCZ7NfUJ"
    },
    {
      "cell_type": "code",
      "execution_count": null,
      "metadata": {
        "colab": {
          "base_uri": "https://localhost:8080/"
        },
        "id": "TyhRYX2eu61s",
        "outputId": "b1dbc0dc-b013-4e87-a3ab-dcb800a38130"
      },
      "outputs": [
        {
          "data": {
            "text/plain": [
              "(array([2]),)"
            ]
          },
          "execution_count": 23,
          "metadata": {},
          "output_type": "execute_result"
        }
      ],
      "source": [
        "np.where(replay_memory[0, index_a:index_r]==1)"
      ],
      "id": "TyhRYX2eu61s"
    },
    {
      "cell_type": "code",
      "execution_count": null,
      "metadata": {
        "id": "mmp4ObdpxzuH"
      },
      "outputs": [],
      "source": [
        "def get_action(s):\n",
        "      p = np.random.uniform()\n",
        "      if(p < 0.8):\n",
        "        a = np.random.choice(3, 1, p=policy(torch.tensor(s).float()).detach().numpy())[0]\n",
        "      else:\n",
        "        a = np.random.choice(3, 1)[0]\n",
        "      return a"
      ],
      "id": "mmp4ObdpxzuH"
    },
    {
      "cell_type": "code",
      "execution_count": null,
      "metadata": {
        "id": "2NWsMx-1-Dhz"
      },
      "outputs": [],
      "source": [
        "def testing_true_value_vs_backup(end_state, init_state, tries):\n",
        "  true_values = []\n",
        "  for i in tqdm(range(init_state, end_state)):\n",
        "    \n",
        "    test_state = replay_memory_backup[i][index_s:index_a]/replay_memory_backup[i][index_s:index_a][-1]\n",
        "    #print(\"test state is \" + str(test_state))\n",
        "    #-0.64461268, -0.03827171,  0.76355076\n",
        "    \n",
        "    #get_action(test_state[:-1])\n",
        "    test_action = np.where(replay_memory[i][index_a:index_r]==1)[0][0]-1\n",
        "    #print(test_action)\n",
        "    true_values.append(value_getter(test_state[:-1], test_action, get_action, gamma, tries))\n",
        "  return true_values"
      ],
      "id": "2NWsMx-1-Dhz"
    },
    {
      "cell_type": "code",
      "execution_count": null,
      "metadata": {
        "id": "UKnutYRw-E48"
      },
      "outputs": [],
      "source": [
        "start_i = 0\n",
        "end_i = index"
      ],
      "id": "UKnutYRw-E48"
    },
    {
      "cell_type": "code",
      "execution_count": null,
      "metadata": {
        "colab": {
          "base_uri": "https://localhost:8080/"
        },
        "id": "fQ6qWDgM9Tov",
        "outputId": "601a7fda-5ce5-4019-adb0-e55743db8575"
      },
      "outputs": [
        {
          "output_type": "stream",
          "name": "stderr",
          "text": [
            "100%|██████████| 628/628 [07:01<00:00,  1.49it/s]\n"
          ]
        }
      ],
      "source": [
        "true_values = testing_true_value_vs_backup(end_i, start_i, 100)"
      ],
      "id": "fQ6qWDgM9Tov"
    },
    {
      "cell_type": "code",
      "execution_count": null,
      "metadata": {
        "colab": {
          "base_uri": "https://localhost:8080/",
          "height": 1000
        },
        "id": "y8htCJXfOpk2",
        "outputId": "f65bffda-05b6-4959-f365-3c7cfd0a3c62"
      },
      "outputs": [
        {
          "output_type": "display_data",
          "data": {
            "text/plain": [
              "<Figure size 2000x2000 with 1 Axes>"
            ],
            "image/png": "[encoded data removed]"
          },
          "metadata": {}
        }
      ],
      "source": [
        "%matplotlib inline\n",
        "import matplotlib.pyplot as plt\n",
        "plt.figure(figsize=(20,20))\n",
        "x = [i for i in range(start_i, end_i)]\n",
        "plt.scatter(x, true_values[start_i:end_i], s=0.8, label='true value')\n",
        "plt.scatter(x, replay_memory_backup[start_i:end_i, -1], s=0.8, label=\"backup\")\n",
        "plt.scatter(x, replay_memory[start_i:end_i, -1], s=0.8, label=\"impirical\")\n",
        "plt.legend()\n",
        "plt.show()"
      ],
      "id": "y8htCJXfOpk2"
    },
    {
      "cell_type": "code",
      "execution_count": null,
      "metadata": {
        "colab": {
          "base_uri": "https://localhost:8080/"
        },
        "id": "D1cQZ5jV5_zs",
        "outputId": "3c242883-138d-43f2-ed96-d1665ab8ab7a"
      },
      "outputs": [
        {
          "output_type": "stream",
          "name": "stdout",
          "text": [
            "0.179230988503444\n",
            "0.12030957661857047\n",
            "48.97483104913417\n"
          ]
        }
      ],
      "source": [
        "rmse_backup = rmse(true_values, replay_memory_backup[:index, -1])\n",
        "rmse_no_backup = rmse(true_values, replay_memory[:index, -1])\n",
        "print(rmse_backup)\n",
        "print(rmse_no_backup)\n",
        "print(100*abs(rmse_backup-rmse_no_backup)/rmse_no_backup)"
      ],
      "id": "D1cQZ5jV5_zs"
    },
    {
      "cell_type": "code",
      "execution_count": null,
      "metadata": {
        "id": "Oz9CXJ9GmK9F"
      },
      "outputs": [],
      "source": [
        "test_replay_memory = np.zeros((1, size_replay_memory))\n",
        "test_index = 0\n",
        "test_steps = steps\n",
        "test_replay_memory, test_index, end_indoces = fill_replay_memory(test_replay_memory, test_index, gamma, steps)"
      ],
      "id": "Oz9CXJ9GmK9F"
    },
    {
      "cell_type": "code",
      "execution_count": null,
      "metadata": {
        "id": "YJbayBHJmq4J"
      },
      "outputs": [],
      "source": [
        "def attention(Q, K, V):\n",
        "  f = Q@K.T\n",
        "  f = f - np.max(f,axis=1)[:,None]\n",
        "  e = np.exp(beta*f)\n",
        "  p = e/np.sum(e, axis=1, keepdims=True)\n",
        "  return p@V"
      ],
      "id": "YJbayBHJmq4J"
    },
    {
      "cell_type": "code",
      "execution_count": null,
      "metadata": {
        "id": "qC06mZeuT3QX"
      },
      "outputs": [],
      "source": [],
      "id": "qC06mZeuT3QX"
    },
    {
      "cell_type": "code",
      "execution_count": null,
      "metadata": {
        "id": "xnTCA32omQKb"
      },
      "outputs": [],
      "source": [
        "\n",
        "  \n",
        "test_Q = test_replay_memory[0:test_index, index_s:index_r]\n",
        "test_K = replay_memory[0:index, index_s:index_r]\n",
        "pred_backup = attention(test_Q, test_K, replay_memory_backup[:index, -1])\n",
        "pred = attention(test_Q, test_K, replay_memory[:index, -1])\n",
        "rmse_backup = rmse(test_replay_memory[0:test_index, -1], pred_backup)\n",
        "rmse1 = rmse(test_replay_memory[0:test_index, -1], pred)\n",
        "  # math.sqrt((( test_replay_memory[0:test_index, -1]- pred_backup)**2).mean(axis=0))\n",
        "  # rmse = math.sqrt((( test_replay_memory[0:test_index, -1]- pred)**2).mean(axis=0))\n",
        "  "
      ],
      "id": "xnTCA32omQKb"
    },
    {
      "cell_type": "code",
      "execution_count": null,
      "metadata": {
        "id": "YV6JB1AqmUOv"
      },
      "outputs": [],
      "source": [
        "\n",
        "  \n",
        "test_Q = test_replay_memory[0:test_index, index_s:index_r]\n",
        "test_K = replay_memory[0:index, index_s:index_r]\n",
        "pred_backup = attention(test_Q, test_K, replay_memory_backup[:index, -1])\n",
        "pred = attention(test_Q, test_K, replay_memory[:index, -1])\n",
        "pred_true = attention(test_Q, test_K, true_values)\n",
        "rmse_backup = rmse(test_replay_memory[0:test_index, -1], pred_backup)\n",
        "rmse1 = rmse(test_replay_memory[0:test_index, -1], pred)\n",
        "rmse_true = rmse(test_replay_memory[0:test_index, -1], pred_true)\n",
        "  # math.sqrt((( test_replay_memory[0:test_index, -1]- pred_backup)**2).mean(axis=0))\n",
        "  # rmse = math.sqrt((( test_replay_memory[0:test_index, -1]- pred)**2).mean(axis=0))\n",
        "  "
      ],
      "id": "YV6JB1AqmUOv"
    },
    {
      "cell_type": "code",
      "execution_count": null,
      "metadata": {
        "colab": {
          "base_uri": "https://localhost:8080/"
        },
        "id": "8QW9YQEx2sxe",
        "outputId": "ea3ae54c-96fc-4c60-f60c-a4a38f0275b4"
      },
      "outputs": [
        {
          "name": "stderr",
          "output_type": "stream",
          "text": [
            "/usr/local/lib/python3.9/dist-packages/ipykernel/ipkernel.py:283: DeprecationWarning: `should_run_async` will not call `transform_cell` automatically in the future. Please pass the result to `transformed_cell` argument and any exception that happen during thetransform in `preprocessing_exc_tuple` in IPython 7.17 and above.\n",
            "  and should_run_async(code)\n",
            "100%|██████████| 578/578 [07:00<00:00,  1.38it/s]\n"
          ]
        }
      ],
      "source": [
        "end_i = test_index\n",
        "start_i = 0\n",
        "\n",
        "test_true_values = testing_true_value_vs_backup(end_i, start_i, 100)"
      ],
      "id": "8QW9YQEx2sxe"
    },
    {
      "cell_type": "code",
      "execution_count": null,
      "metadata": {
        "colab": {
          "base_uri": "https://localhost:8080/",
          "height": 312
        },
        "id": "l2hFo6Df25Pq",
        "outputId": "34f4d4e5-1046-4a81-a71b-55ab68ed1b25"
      },
      "outputs": [
        {
          "ename": "ValueError",
          "evalue": "ignored",
          "output_type": "error",
          "traceback": [
            "\u001b[0;31m---------------------------------------------------------------------------\u001b[0m",
            "\u001b[0;31mValueError\u001b[0m                                Traceback (most recent call last)",
            "\u001b[0;32m<ipython-input-60-524d5c53fff4>\u001b[0m in \u001b[0;36m<cell line: 1>\u001b[0;34m()\u001b[0m\n\u001b[0;32m----> 1\u001b[0;31m \u001b[0mrmse_backup\u001b[0m \u001b[0;34m=\u001b[0m \u001b[0mrmse\u001b[0m\u001b[0;34m(\u001b[0m\u001b[0mtest_true_values\u001b[0m\u001b[0;34m,\u001b[0m \u001b[0mpred_backup\u001b[0m\u001b[0;34m)\u001b[0m\u001b[0;34m\u001b[0m\u001b[0;34m\u001b[0m\u001b[0m\n\u001b[0m\u001b[1;32m      2\u001b[0m \u001b[0mrmse_no_backup\u001b[0m \u001b[0;34m=\u001b[0m \u001b[0mrmse\u001b[0m\u001b[0;34m(\u001b[0m\u001b[0mtest_true_values\u001b[0m\u001b[0;34m,\u001b[0m \u001b[0mpred\u001b[0m\u001b[0;34m)\u001b[0m\u001b[0;34m\u001b[0m\u001b[0;34m\u001b[0m\u001b[0m\n\u001b[1;32m      3\u001b[0m \u001b[0mrmse_empirical\u001b[0m \u001b[0;34m=\u001b[0m \u001b[0mrmse\u001b[0m\u001b[0;34m(\u001b[0m\u001b[0mtest_true_values\u001b[0m\u001b[0;34m,\u001b[0m \u001b[0mtest_replay_memory\u001b[0m\u001b[0;34m[\u001b[0m\u001b[0;34m:\u001b[0m\u001b[0mtest_index\u001b[0m\u001b[0;34m,\u001b[0m \u001b[0;34m-\u001b[0m\u001b[0;36m1\u001b[0m\u001b[0;34m]\u001b[0m\u001b[0;34m)\u001b[0m\u001b[0;34m\u001b[0m\u001b[0;34m\u001b[0m\u001b[0m\n\u001b[1;32m      4\u001b[0m \u001b[0mprint\u001b[0m\u001b[0;34m(\u001b[0m\u001b[0mrmse_backup\u001b[0m\u001b[0;34m)\u001b[0m\u001b[0;34m\u001b[0m\u001b[0;34m\u001b[0m\u001b[0m\n\u001b[1;32m      5\u001b[0m \u001b[0mprint\u001b[0m\u001b[0;34m(\u001b[0m\u001b[0mrmse_no_backup\u001b[0m\u001b[0;34m)\u001b[0m\u001b[0;34m\u001b[0m\u001b[0;34m\u001b[0m\u001b[0m\n",
            "\u001b[0;32m<ipython-input-19-4d87dc2ef6ee>\u001b[0m in \u001b[0;36mrmse\u001b[0;34m(A, B)\u001b[0m\n\u001b[1;32m      1\u001b[0m \u001b[0;32mdef\u001b[0m \u001b[0mrmse\u001b[0m\u001b[0;34m(\u001b[0m\u001b[0mA\u001b[0m\u001b[0;34m,\u001b[0m \u001b[0mB\u001b[0m\u001b[0;34m)\u001b[0m\u001b[0;34m:\u001b[0m\u001b[0;34m\u001b[0m\u001b[0;34m\u001b[0m\u001b[0m\n\u001b[0;32m----> 2\u001b[0;31m   \u001b[0;32mreturn\u001b[0m \u001b[0mmath\u001b[0m\u001b[0;34m.\u001b[0m\u001b[0msqrt\u001b[0m\u001b[0;34m(\u001b[0m\u001b[0;34m(\u001b[0m\u001b[0;34m(\u001b[0m \u001b[0mA\u001b[0m\u001b[0;34m-\u001b[0m\u001b[0mB\u001b[0m\u001b[0;34m)\u001b[0m\u001b[0;34m**\u001b[0m\u001b[0;36m2\u001b[0m\u001b[0;34m)\u001b[0m\u001b[0;34m.\u001b[0m\u001b[0mmean\u001b[0m\u001b[0;34m(\u001b[0m\u001b[0maxis\u001b[0m\u001b[0;34m=\u001b[0m\u001b[0;36m0\u001b[0m\u001b[0;34m)\u001b[0m\u001b[0;34m)\u001b[0m\u001b[0;34m\u001b[0m\u001b[0;34m\u001b[0m\u001b[0m\n\u001b[0m",
            "\u001b[0;31mValueError\u001b[0m: operands could not be broadcast together with shapes (578,) (550,) "
          ]
        }
      ],
      "source": [
        "rmse_backup = rmse(test_true_values, pred_backup)\n",
        "rmse_no_backup = rmse(test_true_values, pred)\n",
        "rmse_empirical = rmse(test_true_values, test_replay_memory[:test_index, -1])\n",
        "print(rmse_backup)\n",
        "print(rmse_no_backup)\n",
        "print(rmse_empirical)\n",
        "print(100*abs(rmse_backup-rmse_no_backup)/rmse_no_backup)"
      ],
      "id": "l2hFo6Df25Pq"
    },
    {
      "cell_type": "code",
      "execution_count": null,
      "metadata": {
        "colab": {
          "base_uri": "https://localhost:8080/"
        },
        "id": "qQuP1puunNQw",
        "outputId": "9e1319c0-9cd0-4259-f971-a1d30f2595d6"
      },
      "outputs": [
        {
          "data": {
            "text/plain": [
              "0.12168648116390318"
            ]
          },
          "execution_count": 61,
          "metadata": {},
          "output_type": "execute_result"
        }
      ],
      "source": [
        "rmse_backup"
      ],
      "id": "qQuP1puunNQw"
    },
    {
      "cell_type": "code",
      "execution_count": null,
      "metadata": {
        "colab": {
          "base_uri": "https://localhost:8080/"
        },
        "id": "PZAoXU0ZnML5",
        "outputId": "cc1744e0-a0fb-448f-db0d-d84d505e2e92"
      },
      "outputs": [
        {
          "data": {
            "text/plain": [
              "0.12292515600453283"
            ]
          },
          "execution_count": 62,
          "metadata": {},
          "output_type": "execute_result"
        }
      ],
      "source": [
        "rmse1"
      ],
      "id": "PZAoXU0ZnML5"
    },
    {
      "cell_type": "code",
      "execution_count": null,
      "metadata": {
        "colab": {
          "base_uri": "https://localhost:8080/"
        },
        "id": "l2r6qGq65Oio",
        "outputId": "8bbf5e48-54ec-4703-de76-a177d3e83d3e"
      },
      "outputs": [
        {
          "data": {
            "text/plain": [
              "0.1484898991049103"
            ]
          },
          "execution_count": 63,
          "metadata": {},
          "output_type": "execute_result"
        }
      ],
      "source": [
        "rmse_true"
      ],
      "id": "l2r6qGq65Oio"
    },
    {
      "cell_type": "code",
      "execution_count": null,
      "metadata": {
        "colab": {
          "base_uri": "https://localhost:8080/"
        },
        "id": "6r4kK2RjeWxn",
        "outputId": "7bf59090-95df-4564-930e-4c277288a45f"
      },
      "outputs": [
        {
          "data": {
            "text/plain": [
              "0.010076658683141868"
            ]
          },
          "execution_count": 64,
          "metadata": {},
          "output_type": "execute_result"
        }
      ],
      "source": [
        "(rmse1-rmse_backup)/rmse1"
      ],
      "id": "6r4kK2RjeWxn"
    },
    {
      "cell_type": "code",
      "execution_count": null,
      "metadata": {
        "colab": {
          "base_uri": "https://localhost:8080/",
          "height": 504
        },
        "id": "aC_3htAk0pVs",
        "outputId": "8e3ec81e-adde-41aa-909e-69c64165dc4b"
      },
      "outputs": [
        {
          "name": "stderr",
          "output_type": "stream",
          "text": [
            "<ipython-input-48-f6590bdbb7f8>:4: RuntimeWarning: invalid value encountered in true_divide\n",
            "  ax.scatter(test_replay_memory[:index, 0]/test_replay_memory[:index, 2],test_replay_memory[:index, 1]/test_replay_memory[:index, 2], s=2)\n"
          ]
        },
        {
          "data": {
            "text/plain": [
              "<matplotlib.collections.PathCollection at 0x7feec9dcd190>"
            ]
          },
          "execution_count": 48,
          "metadata": {},
          "output_type": "execute_result"
        },
        {
          "data": {
            "image/png": "[encoded data removed]",
            "text/plain": [
              "<Figure size 640x480 with 1 Axes>"
            ]
          },
          "metadata": {},
          "output_type": "display_data"
        }
      ],
      "source": [
        "f1 = plt.figure()\n",
        "ax = f1.add_subplot(111)\n",
        "ax.scatter(replay_memory[:index, 0]/replay_memory[:index, 2],replay_memory[:index, 1]/replay_memory[:index, 2], s=2)\n",
        "ax.scatter(test_replay_memory[:index, 0]/test_replay_memory[:index, 2],test_replay_memory[:index, 1]/test_replay_memory[:index, 2], s=2)"
      ],
      "id": "aC_3htAk0pVs"
    },
    {
      "cell_type": "code",
      "execution_count": null,
      "metadata": {
        "colab": {
          "base_uri": "https://localhost:8080/",
          "height": 830
        },
        "id": "zhTMsWhtBPpB",
        "outputId": "37391712-a4d6-4c7c-e1a7-5ed261bb4a1b"
      },
      "outputs": [
        {
          "data": {
            "image/png": "[encoded data removed]",
            "text/plain": [
              "<Figure size 1000x1000 with 1 Axes>"
            ]
          },
          "metadata": {},
          "output_type": "display_data"
        }
      ],
      "source": [
        "%matplotlib inline\n",
        "import matplotlib.pyplot as plt\n",
        "x = np.array([i for i in range(index)])\n",
        "plt.figure(figsize=(10,10))\n",
        "plt.scatter(x, replay_memory_backup[:index,-1], s=0.8, label='with backup')\n",
        "plt.scatter(x, replay_memory[:index,-1], s=0.8, label='without backup')\n",
        "plt.legend()\n",
        "plt.show()"
      ],
      "id": "zhTMsWhtBPpB"
    },
    {
      "cell_type": "code",
      "execution_count": null,
      "metadata": {
        "colab": {
          "base_uri": "https://localhost:8080/",
          "height": 830
        },
        "id": "aDMPVD20DDzV",
        "outputId": "517bcb55-d9f4-42dc-ed47-c42051127bfb"
      },
      "outputs": [
        {
          "data": {
            "image/png": "[encoded data removed]",
            "text/plain": [
              "<Figure size 1000x1000 with 1 Axes>"
            ]
          },
          "metadata": {},
          "output_type": "display_data"
        }
      ],
      "source": [
        "x = np.array([i for i in range(test_index)])\n",
        "plt.figure(figsize=(10,10))\n",
        "plt.scatter(x, test_replay_memory[0:test_index, -1], s=0.8, label='without attention')\n",
        "plt.scatter(x, pred_backup, s=0.8, label='attention on backupped')\n",
        "plt.scatter(x, pred, s=0.8, label='attention on non-backupped')\n",
        "plt.legend()\n",
        "plt.show()"
      ],
      "id": "aDMPVD20DDzV"
    },
    {
      "cell_type": "code",
      "execution_count": null,
      "metadata": {
        "colab": {
          "base_uri": "https://localhost:8080/",
          "height": 830
        },
        "id": "gslrl0N4bkE4",
        "outputId": "c3aa38c6-11b3-4c5c-fd34-488e929e7f7b"
      },
      "outputs": [
        {
          "data": {
            "image/png": "[encoded data removed]",
            "text/plain": [
              "<Figure size 1000x1000 with 1 Axes>"
            ]
          },
          "metadata": {},
          "output_type": "display_data"
        }
      ],
      "source": [
        "#x = np.array([i for i in range(test_index)])\n",
        "plt.figure(figsize=(10,10))\n",
        "plt.scatter(x, test_replay_memory[0:test_index, -1], s=0.8, label='without attention')\n",
        "#plt.scatter(pred, pred_backup, s=0.8, label='nonbackupped vs backupped')\n",
        "plt.scatter(x, pred, s=0.8, label='attention on non-backupped')\n",
        "#plt.legend()\n",
        "plt.show()"
      ],
      "id": "gslrl0N4bkE4"
    },
    {
      "cell_type": "code",
      "execution_count": null,
      "metadata": {
        "colab": {
          "base_uri": "https://localhost:8080/"
        },
        "id": "SH3Z8QkqkfjP",
        "outputId": "2973cd46-d7a8-4768-c426-9c89717f0c97"
      },
      "outputs": [
        {
          "data": {
            "text/plain": [
              "array([0.04866471, 0.05536769, 0.06453957, ..., 0.94503801, 0.96204195,\n",
              "       0.97653228])"
            ]
          },
          "execution_count": 312,
          "metadata": {},
          "output_type": "execute_result"
        }
      ],
      "source": [
        "pred_backup"
      ],
      "id": "SH3Z8QkqkfjP"
    },
    {
      "cell_type": "code",
      "execution_count": null,
      "metadata": {
        "colab": {
          "base_uri": "https://localhost:8080/"
        },
        "id": "Cf4oXenVkhhi",
        "outputId": "a68bcc5d-e258-44fa-eefa-d5a513a97705"
      },
      "outputs": [
        {
          "data": {
            "text/plain": [
              "array([0.03456858, 0.03779492, 0.04135933, ..., 0.96295376, 0.97696449,\n",
              "       0.98699584])"
            ]
          },
          "execution_count": 313,
          "metadata": {},
          "output_type": "execute_result"
        }
      ],
      "source": [
        "pred"
      ],
      "id": "Cf4oXenVkhhi"
    },
    {
      "cell_type": "markdown",
      "metadata": {
        "id": "NsLrnBHSlezo"
      },
      "source": [
        "DEAD CODE BELOW"
      ],
      "id": "NsLrnBHSlezo"
    },
    {
      "cell_type": "code",
      "execution_count": null,
      "metadata": {
        "colab": {
          "base_uri": "https://localhost:8080/"
        },
        "id": "sJBGsHAhLl3Z",
        "outputId": "812e87eb-5fef-4a63-9758-f9ec30c4059e"
      },
      "outputs": [
        {
          "name": "stderr",
          "output_type": "stream",
          "text": [
            "100%|██████████| 50/50 [00:11<00:00,  4.53it/s]\n"
          ]
        },
        {
          "data": {
            "text/plain": [
              "array([0.09213223, 0.09232656, 0.0923397 , ..., 0.13636038, 0.13668862,\n",
              "       1.13694009])"
            ]
          },
          "execution_count": 125,
          "metadata": {},
          "output_type": "execute_result"
        }
      ],
      "source": [
        "from tqdm import tqdm\n",
        "beta=300\n",
        "alpha = 10\n",
        "replay_memory_backup = np.copy(replay_memory)\n",
        "for i in tqdm(range(50)):\n",
        "  weights = attention_matrix(replay_memory_backup,index,beta)\n",
        "  values = weighted_values(replay_memory_backup,weights,index)\n",
        "  replay_memory_backup = backup(replay_memory_backup,index,values,alpha,beta) # backup(replay_memory, index, weighted_states, alpha, beta)\n",
        "replay_memory_backup[:index,-1]"
      ],
      "id": "sJBGsHAhLl3Z"
    },
    {
      "cell_type": "code",
      "execution_count": null,
      "metadata": {
        "colab": {
          "base_uri": "https://localhost:8080/"
        },
        "id": "lwr2mNulaDnQ",
        "outputId": "64659561-2f0b-46f1-f163-235701723146"
      },
      "outputs": [
        {
          "data": {
            "text/plain": [
              "array([0.02833302, 0.0292093 , 0.03011268, ..., 0.9409    , 0.97      ,\n",
              "       1.        ])"
            ]
          },
          "execution_count": 126,
          "metadata": {},
          "output_type": "execute_result"
        }
      ],
      "source": [
        "replay_memory[:index,-1]"
      ],
      "id": "lwr2mNulaDnQ"
    },
    {
      "cell_type": "code",
      "execution_count": null,
      "metadata": {
        "id": "-bEKTV08ADof"
      },
      "outputs": [],
      "source": [
        "def backup_Q(replay_memory, index, beta, alpha):\n",
        "  n = replay_memory.shape[0]\n",
        "  actions = np.array([one_hot(0), one_hot(-1),one_hot(1)])\n",
        "  actions = np.tile(actions,n).reshape(3*n,1)\n",
        "  states = np.repeat(replay_memory[:, 7:10], repeats=3, axis=0)\n"
      ],
      "id": "-bEKTV08ADof"
    },
    {
      "cell_type": "code",
      "execution_count": null,
      "metadata": {
        "id": "319c504e"
      },
      "outputs": [],
      "source": [
        "# backup_V = replay_memory[0:index, -1]\n",
        "# for i in range(30):\n",
        "#   V = get_self_values(replay_memory[0:index, 7:10], backup_V, beta)\n",
        "#   # originally it is [0:index, 0:4]\n",
        "#   backup_V = backup(backup_V, replay_memory[0:index, 6], replay_memory[0:index, 0:6], replay_memory[0:index, 0:6], V)"
      ],
      "id": "319c504e"
    },
    {
      "cell_type": "code",
      "execution_count": null,
      "metadata": {
        "colab": {
          "base_uri": "https://localhost:8080/"
        },
        "id": "b99b2f47",
        "outputId": "6bf3e9b3-5ac0-438f-c3b4-5ea706c8067a"
      },
      "outputs": [
        {
          "data": {
            "text/plain": [
              "array([ 0.        ,  0.        ,  0.        , ...,  0.        ,\n",
              "        0.        , -0.97673273])"
            ]
          },
          "execution_count": 97,
          "metadata": {},
          "output_type": "execute_result"
        }
      ],
      "source": [
        "replay_memory[0:index, -1]"
      ],
      "id": "b99b2f47"
    },
    {
      "cell_type": "code",
      "execution_count": null,
      "metadata": {
        "id": "-GF-PfckloPD"
      },
      "outputs": [],
      "source": [
        "backup_V = replay_memory_backup[:index,-1]"
      ],
      "id": "-GF-PfckloPD"
    },
    {
      "cell_type": "code",
      "execution_count": null,
      "metadata": {
        "id": "MCrW0Xw2X5nK"
      },
      "outputs": [],
      "source": [
        "test_replay_memory = np.zeros((1, 11))\n",
        "test_index = 0\n",
        "test_gamma = 0.97\n",
        "test_steps = 200\n",
        "test_replay_memory, test_index = fill_replay_memory(test_replay_memory, test_index, gamma, steps)"
      ],
      "id": "MCrW0Xw2X5nK"
    },
    {
      "cell_type": "code",
      "execution_count": null,
      "metadata": {
        "colab": {
          "base_uri": "https://localhost:8080/"
        },
        "id": "fq0iah1-cfmL",
        "outputId": "dbee089f-a598-49c0-ed2d-dadded01a0a9"
      },
      "outputs": [
        {
          "data": {
            "text/plain": [
              "array([-0.50596082,  0.        ,  0.86255646, -1.        ,  0.        ,\n",
              "        0.        ,  0.        , -0.502263  , -0.12604657,  0.85547889,\n",
              "        0.02748303])"
            ]
          },
          "execution_count": 129,
          "metadata": {},
          "output_type": "execute_result"
        }
      ],
      "source": [
        "test_replay_memory[0]"
      ],
      "id": "fq0iah1-cfmL"
    },
    {
      "cell_type": "code",
      "execution_count": null,
      "metadata": {
        "colab": {
          "base_uri": "https://localhost:8080/"
        },
        "id": "ZXOkQxwLcwMA",
        "outputId": "a0575545-9327-4a4e-f835-079e7a4304c4"
      },
      "outputs": [
        {
          "data": {
            "text/plain": [
              "array([-0.42344616,  0.        ,  0.90592127,  1.        ,  0.        ,\n",
              "        0.        ,  0.        , -0.41856758,  0.14461491,  0.89659785,\n",
              "        0.02833302])"
            ]
          },
          "execution_count": 130,
          "metadata": {},
          "output_type": "execute_result"
        }
      ],
      "source": [
        "replay_memory[0]"
      ],
      "id": "ZXOkQxwLcwMA"
    },
    {
      "cell_type": "code",
      "execution_count": null,
      "metadata": {
        "id": "7w0L12BOcxdK"
      },
      "outputs": [],
      "source": [
        "test_Q = test_replay_memory[0:index, 0:6]\n",
        "test_K = replay_memory[0:index, 0:6]\n",
        "pred_backup = get_value(test_Q, test_K, backup_V, beta)\n",
        "pred = get_value(test_Q, test_K, replay_memory[0:index, -1], beta)"
      ],
      "id": "7w0L12BOcxdK"
    },
    {
      "cell_type": "code",
      "execution_count": null,
      "metadata": {
        "id": "GQL-kAroZtW_"
      },
      "outputs": [],
      "source": [],
      "id": "GQL-kAroZtW_"
    },
    {
      "cell_type": "code",
      "execution_count": null,
      "metadata": {
        "colab": {
          "base_uri": "https://localhost:8080/"
        },
        "id": "0IAnvyd7c-Ym",
        "outputId": "c466000a-b5fe-441e-cba9-c334e5bfa67e"
      },
      "outputs": [
        {
          "data": {
            "text/plain": [
              "array([0.02748303, 0.02833302, 0.0292093 , ..., 0.9409    , 0.97      ,\n",
              "       1.        ])"
            ]
          },
          "execution_count": 132,
          "metadata": {},
          "output_type": "execute_result"
        }
      ],
      "source": [
        "test_replay_memory[0:test_index, -1]"
      ],
      "id": "0IAnvyd7c-Ym"
    },
    {
      "cell_type": "code",
      "execution_count": null,
      "metadata": {
        "id": "02FK2gXwdfls"
      },
      "outputs": [],
      "source": [
        "mse_backup = (( test_replay_memory[0:index, -1]- pred_backup)**2).mean(axis=0)\n",
        "mse = (( test_replay_memory[0:index, -1]- pred)**2).mean(axis=0)"
      ],
      "id": "02FK2gXwdfls"
    },
    {
      "cell_type": "code",
      "execution_count": null,
      "metadata": {
        "colab": {
          "base_uri": "https://localhost:8080/"
        },
        "id": "-eCJ7Fm5hMHY",
        "outputId": "005d9b73-28bb-43da-a436-89d7e99a07f4"
      },
      "outputs": [
        {
          "data": {
            "text/plain": [
              "0.1647703955628492"
            ]
          },
          "execution_count": 137,
          "metadata": {},
          "output_type": "execute_result"
        }
      ],
      "source": [
        "math.sqrt(mse)"
      ],
      "id": "-eCJ7Fm5hMHY"
    },
    {
      "cell_type": "code",
      "execution_count": null,
      "metadata": {
        "colab": {
          "base_uri": "https://localhost:8080/"
        },
        "id": "YgjQiEQkZRmk",
        "outputId": "50838ed1-adc5-458d-9d17-707ef2935003"
      },
      "outputs": [
        {
          "data": {
            "text/plain": [
              "0.2932068699940087"
            ]
          },
          "execution_count": 136,
          "metadata": {},
          "output_type": "execute_result"
        }
      ],
      "source": [
        "math.sqrt(mse_backup)"
      ],
      "id": "YgjQiEQkZRmk"
    },
    {
      "cell_type": "code",
      "execution_count": null,
      "metadata": {
        "id": "EyW4XV_kZSVW"
      },
      "outputs": [],
      "source": [],
      "id": "EyW4XV_kZSVW"
    }
  ],
  "metadata": {
    "colab": {
      "provenance": [],
      "include_colab_link": true
    },
    "kernelspec": {
      "display_name": "Python 3 (ipykernel)",
      "language": "python",
      "name": "python3"
    },
    "language_info": {
      "codemirror_mode": {
        "name": "ipython",
        "version": 3
      },
      "file_extension": ".py",
      "mimetype": "text/x-python",
      "name": "python",
      "nbconvert_exporter": "python",
      "pygments_lexer": "ipython3",
      "version": "3.9.9"
    }
  },
  "nbformat": 4,
  "nbformat_minor": 5
}